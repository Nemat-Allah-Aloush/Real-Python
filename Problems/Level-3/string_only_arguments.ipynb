{
 "cells": [
  {
   "cell_type": "markdown",
   "metadata": {},
   "source": [
    "### Write a decorator that checks whether all the arguments are all strings"
   ]
  },
  {
   "cell_type": "markdown",
   "metadata": {},
   "source": [
    "A decorator is a callable that takes a callable and returns a callable."
   ]
  },
  {
   "cell_type": "code",
   "execution_count": 15,
   "metadata": {},
   "outputs": [],
   "source": [
    "def only_string_args(func):\n",
    "    def wrapper(*args, **kwargs): # this funcion should take all the possible combination of position arguments and keyword arguments\n",
    "        return func(*[one_arg \n",
    "                    for one_arg in args\n",
    "                    if isinstance(one_arg,str)],\n",
    "                    **kwargs)\n",
    "    return wrapper"
   ]
  },
  {
   "cell_type": "code",
   "execution_count": 16,
   "metadata": {},
   "outputs": [],
   "source": [
    "@only_string_args\n",
    "def hello(name):\n",
    "    return f'Hello, {name}'\n",
    "\n",
    "@only_string_args\n",
    "def goodbye(name):\n",
    "    return f'Goodbye, {name}'\n",
    "    \n",
    "@only_string_args\n",
    "def word_lengths(*words):\n",
    "    return{one_word : len(one_word) for one_word in words}"
   ]
  },
  {
   "cell_type": "code",
   "execution_count": 17,
   "metadata": {},
   "outputs": [
    {
     "name": "stdout",
     "output_type": "stream",
     "text": [
      "Hello, you\n"
     ]
    }
   ],
   "source": [
    "print(hello('you',5))"
   ]
  },
  {
   "cell_type": "code",
   "execution_count": 4,
   "metadata": {},
   "outputs": [
    {
     "name": "stdout",
     "output_type": "stream",
     "text": [
      "Goodbye, you\n"
     ]
    }
   ],
   "source": [
    "print(goodbye('you'))"
   ]
  },
  {
   "cell_type": "code",
   "execution_count": 18,
   "metadata": {},
   "outputs": [
    {
     "data": {
      "text/plain": [
       "{'hi': 2, 'hello': 5, 'hola': 4}"
      ]
     },
     "execution_count": 18,
     "metadata": {},
     "output_type": "execute_result"
    }
   ],
   "source": [
    "word_lengths('hi','hello','hola',7)"
   ]
  },
  {
   "cell_type": "markdown",
   "metadata": {},
   "source": [
    "### A more general decorator\n",
    "A decorator that take an argument\n",
    "It is more general and we will able to use the decorator for different types."
   ]
  },
  {
   "cell_type": "code",
   "execution_count": 19,
   "metadata": {},
   "outputs": [],
   "source": [
    "def only_type_args(specific_type):\n",
    "    def middle(func):\n",
    "        def wrapper(*args, **kwargs): # this funcion should take all the possible combination of position arguments and keyword arguments\n",
    "            return func(*[one_arg \n",
    "                        for one_arg in args\n",
    "                        if isinstance(one_arg,specific_type)],\n",
    "                        **kwargs)\n",
    "        return wrapper\n",
    "    return middle"
   ]
  },
  {
   "cell_type": "code",
   "execution_count": 20,
   "metadata": {},
   "outputs": [],
   "source": [
    "@only_type_args(str)\n",
    "def hello(name):\n",
    "    return f'Hello, {name}'\n",
    "\n",
    "@only_type_args(int)\n",
    "def div(x,y):\n",
    "    return x / y"
   ]
  },
  {
   "cell_type": "code",
   "execution_count": 21,
   "metadata": {},
   "outputs": [
    {
     "name": "stdout",
     "output_type": "stream",
     "text": [
      "Hello, you\n"
     ]
    }
   ],
   "source": [
    "print(hello('you',5))"
   ]
  },
  {
   "cell_type": "code",
   "execution_count": 24,
   "metadata": {},
   "outputs": [
    {
     "name": "stdout",
     "output_type": "stream",
     "text": [
      "2.0\n"
     ]
    }
   ],
   "source": [
    "print(div(10,5,'5'))"
   ]
  },
  {
   "cell_type": "code",
   "execution_count": null,
   "metadata": {},
   "outputs": [],
   "source": []
  }
 ],
 "metadata": {
  "kernelspec": {
   "display_name": "Python 3.7.8 64-bit",
   "language": "python",
   "name": "python3"
  },
  "language_info": {
   "codemirror_mode": {
    "name": "ipython",
    "version": 3
   },
   "file_extension": ".py",
   "mimetype": "text/x-python",
   "name": "python",
   "nbconvert_exporter": "python",
   "pygments_lexer": "ipython3",
   "version": "3.7.8"
  },
  "orig_nbformat": 4,
  "vscode": {
   "interpreter": {
    "hash": "0a54084e6b208ee8d1ce3989ffc20924477a5f55f5a43e22e699a6741623861e"
   }
  }
 },
 "nbformat": 4,
 "nbformat_minor": 2
}
