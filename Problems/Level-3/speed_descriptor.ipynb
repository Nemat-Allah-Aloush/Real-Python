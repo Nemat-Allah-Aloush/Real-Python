{
 "cells": [
  {
   "cell_type": "markdown",
   "metadata": {},
   "source": [
    "### Define a descriptor whose value cannot be lower than 0 or greater than 100. If the user attempts to set it to either value, it raises an exception."
   ]
  },
  {
   "cell_type": "markdown",
   "metadata": {},
   "source": [
    "we can use proberty here, but we'll do it with descriptor"
   ]
  },
  {
   "cell_type": "code",
   "execution_count": 6,
   "metadata": {},
   "outputs": [
    {
     "name": "stdout",
     "output_type": "stream",
     "text": [
      "In Speed.__init__\n",
      "In Speed.__set__()\n",
      "In Speed__get__()\n",
      "50\n",
      "In Speed.__set__()\n"
     ]
    },
    {
     "ename": "SpeedTooHighError",
     "evalue": "Too fast!",
     "output_type": "error",
     "traceback": [
      "\u001b[1;31m---------------------------------------------------------------------------\u001b[0m",
      "\u001b[1;31mSpeedTooHighError\u001b[0m                         Traceback (most recent call last)",
      "\u001b[1;32m~\\AppData\\Local\\Temp/ipykernel_15500/3496077912.py\u001b[0m in \u001b[0;36m<module>\u001b[1;34m\u001b[0m\n\u001b[0;32m     33\u001b[0m \u001b[0mc\u001b[0m\u001b[1;33m.\u001b[0m\u001b[0mspeed\u001b[0m \u001b[1;33m=\u001b[0m\u001b[1;36m50\u001b[0m\u001b[1;33m\u001b[0m\u001b[1;33m\u001b[0m\u001b[0m\n\u001b[0;32m     34\u001b[0m \u001b[0mprint\u001b[0m\u001b[1;33m(\u001b[0m\u001b[0mc\u001b[0m\u001b[1;33m.\u001b[0m\u001b[0mspeed\u001b[0m\u001b[1;33m)\u001b[0m \u001b[1;31m# 50\u001b[0m\u001b[1;33m\u001b[0m\u001b[1;33m\u001b[0m\u001b[0m\n\u001b[1;32m---> 35\u001b[1;33m \u001b[0mc\u001b[0m\u001b[1;33m.\u001b[0m\u001b[0mspeed\u001b[0m \u001b[1;33m=\u001b[0m\u001b[1;36m200\u001b[0m \u001b[1;31m# here raise an exception\u001b[0m\u001b[1;33m\u001b[0m\u001b[1;33m\u001b[0m\u001b[0m\n\u001b[0m",
      "\u001b[1;32m~\\AppData\\Local\\Temp/ipykernel_15500/3496077912.py\u001b[0m in \u001b[0;36m__set__\u001b[1;34m(self, obj, newvalue)\u001b[0m\n\u001b[0;32m     20\u001b[0m         \u001b[0mprint\u001b[0m\u001b[1;33m(\u001b[0m\u001b[1;34m\"In Speed.__set__()\"\u001b[0m\u001b[1;33m)\u001b[0m\u001b[1;33m\u001b[0m\u001b[1;33m\u001b[0m\u001b[0m\n\u001b[0;32m     21\u001b[0m         \u001b[1;32mif\u001b[0m \u001b[0mnewvalue\u001b[0m \u001b[1;33m>\u001b[0m \u001b[0mself\u001b[0m\u001b[1;33m.\u001b[0m\u001b[0mMax_Speed\u001b[0m\u001b[1;33m:\u001b[0m\u001b[1;33m\u001b[0m\u001b[1;33m\u001b[0m\u001b[0m\n\u001b[1;32m---> 22\u001b[1;33m             \u001b[1;32mraise\u001b[0m \u001b[0mSpeedTooHighError\u001b[0m\u001b[1;33m(\u001b[0m\u001b[1;34m\"Too fast!\"\u001b[0m\u001b[1;33m)\u001b[0m\u001b[1;33m\u001b[0m\u001b[1;33m\u001b[0m\u001b[0m\n\u001b[0m\u001b[0;32m     23\u001b[0m         \u001b[1;32mif\u001b[0m \u001b[0mnewvalue\u001b[0m \u001b[1;33m<\u001b[0m \u001b[0mself\u001b[0m\u001b[1;33m.\u001b[0m\u001b[0mMin_Speed\u001b[0m\u001b[1;33m:\u001b[0m\u001b[1;33m\u001b[0m\u001b[1;33m\u001b[0m\u001b[0m\n\u001b[0;32m     24\u001b[0m             \u001b[1;32mraise\u001b[0m \u001b[0mSpeedTooLowError\u001b[0m\u001b[1;33m(\u001b[0m\u001b[1;34m\"Too slow!\"\u001b[0m\u001b[1;33m)\u001b[0m\u001b[1;33m\u001b[0m\u001b[1;33m\u001b[0m\u001b[0m\n",
      "\u001b[1;31mSpeedTooHighError\u001b[0m: Too fast!"
     ]
    }
   ],
   "source": [
    "from collections import defaultdict\n",
    "class SpeedTooHighError(Exception):\n",
    "    pass\n",
    "\n",
    "class SpeedTooLowError(Exception):\n",
    "    pass\n",
    "\n",
    "class Speed():\n",
    "    Max_Speed = 100\n",
    "    Min_Speed = 0\n",
    "    def __init__(self):\n",
    "        self._speed= defaultdict(int) # the default value is 0\n",
    "        print(\"In Speed.__init__\")\n",
    "    \n",
    "    def __get__(self, obj, objtype=None):\n",
    "        print(\"In Speed__get__()\")\n",
    "        return self._speed[obj]\n",
    "\n",
    "    def __set__(self, obj, newvalue):\n",
    "        print(\"In Speed.__set__()\")\n",
    "        if newvalue > self.Max_Speed:\n",
    "            raise SpeedTooHighError(\"Too fast!\")\n",
    "        if newvalue < self.Min_Speed:\n",
    "            raise SpeedTooLowError(\"Too slow!\")\n",
    "        self._speed[obj] = newvalue\n",
    "       \n",
    "class Car():\n",
    "    speed = Speed() # implementing the desriptor protocol\n",
    "    def __init__ (self, name):\n",
    "        self.name =name\n",
    "\n",
    "c=Car('Audi')\n",
    "c.speed =50\n",
    "print(c.speed) # 50\n",
    "c.speed =200 # here raise an exception"
   ]
  },
  {
   "cell_type": "code",
   "execution_count": 7,
   "metadata": {},
   "outputs": [
    {
     "name": "stdout",
     "output_type": "stream",
     "text": [
      "In Speed.__set__()\n",
      "In Speed__get__()\n",
      "0\n"
     ]
    }
   ],
   "source": [
    "c1 = Car(\"A\")\n",
    "c2 = Car(\"B\")\n",
    "\n",
    "c1.speed = 50\n",
    "print(c2.speed)"
   ]
  }
 ],
 "metadata": {
  "kernelspec": {
   "display_name": "Python 3.7.8 64-bit",
   "language": "python",
   "name": "python3"
  },
  "language_info": {
   "codemirror_mode": {
    "name": "ipython",
    "version": 3
   },
   "file_extension": ".py",
   "mimetype": "text/x-python",
   "name": "python",
   "nbconvert_exporter": "python",
   "pygments_lexer": "ipython3",
   "version": "3.7.8"
  },
  "orig_nbformat": 4,
  "vscode": {
   "interpreter": {
    "hash": "0a54084e6b208ee8d1ce3989ffc20924477a5f55f5a43e22e699a6741623861e"
   }
  }
 },
 "nbformat": 4,
 "nbformat_minor": 2
}
