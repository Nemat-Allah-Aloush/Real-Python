{
 "cells": [
  {
   "cell_type": "markdown",
   "metadata": {},
   "source": [
    "### Define a Person class with a \"full_name\" property.\n",
    " Setting it automatically sets the \"first_name\" and \"last_name\" attributes. (We can assume that full_name will only contain one space character.)"
   ]
  },
  {
   "cell_type": "markdown",
   "metadata": {},
   "source": [
    "We need to add 'full_name' proberty that can work as following:\n",
    "```\n",
    "p = Person ('Michle Jackon')\n",
    "print(p.first_name) # Michle\n",
    "print(p.last_name) # Jackson\n",
    "\n",
    "p.full_name = 'f_name l_name'\n",
    "print(p.first_name) # f_name\n",
    "print(p.last_name) # l_name\n",
    "print(p.full_name) # f_name l_name\n",
    "```"
   ]
  },
  {
   "cell_type": "markdown",
   "metadata": {},
   "source": [
    "A **Property** looks and feels like data but actually is a method behind the scenes."
   ]
  },
  {
   "cell_type": "code",
   "execution_count": 2,
   "metadata": {},
   "outputs": [],
   "source": [
    "class Person():\n",
    "    def __init__(self, s):\n",
    "        self._full_name = s\n",
    "        self.first_name , self.last_name= s.split()\n",
    "    \n",
    "    @property # defining the getter for full_name\n",
    "    def full_name(self):\n",
    "        print(\"\\t\\t Now executing full_name method\")\n",
    "        return self._full_name\n",
    "\n",
    "    @full_name.setter # defining the setter for full_name\n",
    "    def full_name(self, new_name):\n",
    "        print(\"\\t\\t Now executing full_name setter\")\n",
    "        self._full_name = new_name\n",
    "        self.first_name, self.last_name = new_name.split()\n",
    "    \n"
   ]
  },
  {
   "cell_type": "code",
   "execution_count": 3,
   "metadata": {},
   "outputs": [
    {
     "name": "stdout",
     "output_type": "stream",
     "text": [
      "Michle\n",
      "Jackon\n",
      "\t\t Now executing full_name setter\n",
      "f_name\n",
      "l_name\n",
      "\t\t Now executing full_name method\n",
      "f_name l_name\n"
     ]
    }
   ],
   "source": [
    "p = Person ('Michle Jackon')\n",
    "print(p.first_name) # Michle\n",
    "print(p.last_name) # Jackson\n",
    "\n",
    "p.full_name = 'f_name l_name'\n",
    "print(p.first_name) # f_name\n",
    "print(p.last_name) # l_name\n",
    "print(p.full_name) # f_name l_name"
   ]
  }
 ],
 "metadata": {
  "kernelspec": {
   "display_name": "Python 3.7.8 64-bit",
   "language": "python",
   "name": "python3"
  },
  "language_info": {
   "codemirror_mode": {
    "name": "ipython",
    "version": 3
   },
   "file_extension": ".py",
   "mimetype": "text/x-python",
   "name": "python",
   "nbconvert_exporter": "python",
   "pygments_lexer": "ipython3",
   "version": "3.7.8"
  },
  "orig_nbformat": 4,
  "vscode": {
   "interpreter": {
    "hash": "0a54084e6b208ee8d1ce3989ffc20924477a5f55f5a43e22e699a6741623861e"
   }
  }
 },
 "nbformat": 4,
 "nbformat_minor": 2
}
