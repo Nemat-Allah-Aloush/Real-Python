{
 "cells": [
  {
   "cell_type": "markdown",
   "metadata": {},
   "source": [
    "### Problem 01: Finding the highest square under a given number."
   ]
  },
  {
   "cell_type": "code",
   "execution_count": 1,
   "metadata": {},
   "outputs": [
    {
     "name": "stdout",
     "output_type": "stream",
     "text": [
      "Number: 5, Number that has highest square under it: 2, its square: 4\n"
     ]
    }
   ],
   "source": [
    "def highest_square(number):\n",
    "    if (number <=0 ): return(0,0)\n",
    "    highest_square = 0\n",
    "    for i in range(number):\n",
    "        square = i **2\n",
    "        if (square >= number):\n",
    "            break\n",
    "        highest_square = square\n",
    "    # returning the number that has the highest suqare under 'number' and its square\n",
    "    return (i-1,highest_square) \n",
    "num =5  \n",
    "highest_square=highest_square(num)  \n",
    "print (f'Number: {num}, Number that has highest square under it: {highest_square[0]}, its square: {highest_square[1]}')\n"
   ]
  },
  {
   "cell_type": "markdown",
   "metadata": {},
   "source": [
    "### Problem 02: checking whether an array elements are divisible by 3,5 or both\n",
    "Using enumerate() instead of range()."
   ]
  },
  {
   "cell_type": "code",
   "execution_count": 13,
   "metadata": {},
   "outputs": [
    {
     "name": "stdout",
     "output_type": "stream",
     "text": [
      "[3, 5, 9, 15, 40]\n",
      "['Divisibile by 3', 'Divisibile by 5', 'Divisibile by 3', 'Divisibile by 3 & 5', 'Divisibile by 5']\n"
     ]
    }
   ],
   "source": [
    "def check_divisibility(list):\n",
    "    for i,num in enumerate(list):\n",
    "        if (num%3==0 and num%5==0):\n",
    "            list[i]=\"Divisibile by 3 & 5\"\n",
    "        elif (num%3==0):\n",
    "            list[i]=\"Divisibile by 3\"\n",
    "        elif (num%5==0):\n",
    "            list[i]=\"Divisibile by 5\"\n",
    "    return list\n",
    "list=[3,5,9,15,40]\n",
    "print(list)\n",
    "results=check_divisibility(list)\n",
    "print(results)"
   ]
  },
  {
   "cell_type": "markdown",
   "metadata": {},
   "source": [
    "### Problem 03: Creating a grid dynamically\n",
    "Given number of rows and columns.\n",
    "\n",
    "A problem for the list comprehension tip usage."
   ]
  },
  {
   "cell_type": "code",
   "execution_count": 3,
   "metadata": {},
   "outputs": [
    {
     "name": "stdout",
     "output_type": "stream",
     "text": [
      "[[0, 0, 0], [0, 0, 0]]\n"
     ]
    }
   ],
   "source": [
    "target = [[0,0,0],[0,0,0]]\n",
    "num_rows =2\n",
    "num_col=3 \n",
    "grid = [[0 for _ in range(num_col)] for _ in range(num_rows)]\n",
    "print(grid)"
   ]
  },
  {
   "cell_type": "markdown",
   "metadata": {},
   "source": [
    "### Problem 04: Check if any value of a list is odd\n",
    "Using any() function and list comprehension"
   ]
  },
  {
   "cell_type": "code",
   "execution_count": 20,
   "metadata": {},
   "outputs": [
    {
     "name": "stdout",
     "output_type": "stream",
     "text": [
      "[1, 2, 3, -4] \n",
      " Which values are odd?  [True, False, True, False] \n",
      " Is any of the values odd? True \n",
      " Are all the values odd? False\n"
     ]
    }
   ],
   "source": [
    "lst=[1,2,3,-4]\n",
    "print (lst,\n",
    "        \"\\n Which values are odd? \", [(lambda x: x%2==1)(num) for num in lst] ,\n",
    "        \"\\n Is any of the values odd?\", any([(lambda x: x%2==1)(num) for num in lst]),\n",
    "        \"\\n Are all the values odd?\",all([(lambda x: x%2==1)(num) for num in lst]))\n"
   ]
  },
  {
   "cell_type": "markdown",
   "metadata": {},
   "source": [
    "### Problem 05: Count Vowels in a file, given a filename"
   ]
  },
  {
   "cell_type": "code",
   "execution_count": null,
   "metadata": {},
   "outputs": [],
   "source": [
    "# Typical method\n",
    "def vowel_count(filename):\n",
    "    f = open(filename, 'r') # creating new file object\n",
    "    text=f.read() \n",
    "\n",
    "    count =0\n",
    "    for one_character in text:\n",
    "        if one_character in 'aeiou':\n",
    "            count +=1\n",
    "    return count\n",
    "vowel_count('filepath')"
   ]
  },
  {
   "cell_type": "markdown",
   "metadata": {},
   "source": [
    "f.read() it goes to the file and retrive all the file's contents and returns that as a string"
   ]
  },
  {
   "cell_type": "code",
   "execution_count": null,
   "metadata": {},
   "outputs": [],
   "source": [
    "# better method: the main idea is to iterate over the file one character by time\n",
    "def vowel_count(filename):\n",
    "    f = open(filename, 'r') # creating new file object\n",
    "    count =0\n",
    "    for one_line in f:\n",
    "        for one_character in one_line:\n",
    "            if one_character in 'aeiouAEIOU':\n",
    "              count +=1\n",
    "    return count\n",
    "vowel_count('filepath')"
   ]
  },
  {
   "cell_type": "code",
   "execution_count": null,
   "metadata": {},
   "outputs": [],
   "source": [
    "# better method: no need to save a file object\n",
    "def vowel_count(filename):\n",
    "    count =0\n",
    "    try:\n",
    "        for one_line in open(filename, 'r'):\n",
    "            for one_character in one_line:\n",
    "                if one_character in 'aeiouAEIOU':\n",
    "                 count +=1\n",
    "    except FileNotFoundError as e:\n",
    "        print(f\"No such file {filename}\")\n",
    "    return count\n",
    "vowel_count('filepath')"
   ]
  }
 ],
 "metadata": {
  "interpreter": {
   "hash": "8fac594bfae6525c0c41b4041d2d72effa188cc8ead05f81b1fab2bb098927fb"
  },
  "kernelspec": {
   "display_name": "Python 3.9.7 ('base')",
   "language": "python",
   "name": "python3"
  },
  "language_info": {
   "codemirror_mode": {
    "name": "ipython",
    "version": 3
   },
   "file_extension": ".py",
   "mimetype": "text/x-python",
   "name": "python",
   "nbconvert_exporter": "python",
   "pygments_lexer": "ipython3",
   "version": "3.9.7"
  },
  "orig_nbformat": 4
 },
 "nbformat": 4,
 "nbformat_minor": 2
}
