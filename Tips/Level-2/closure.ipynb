{
 "cells": [
  {
   "cell_type": "markdown",
   "metadata": {},
   "source": [
    "### What is a closure?"
   ]
  },
  {
   "cell_type": "markdown",
   "metadata": {},
   "source": [
    "Notes:\n",
    "- `def` both creats a new function object and define a variable.\n",
    "- defining a variable inside a function, means creating a local variable.\n",
    "- a function can return any Python object.\n",
    "- the body of the function doesn't run untill we execute the function."
   ]
  },
  {
   "cell_type": "code",
   "execution_count": 1,
   "metadata": {},
   "outputs": [],
   "source": [
    "def foo(): # outer function / enclosing function\n",
    "    def bar(): # inner function\n",
    "        # bar is a local variable inside the function foo\n",
    "        print (\"Hi\")\n",
    "    return bar"
   ]
  },
  {
   "cell_type": "code",
   "execution_count": 4,
   "metadata": {},
   "outputs": [
    {
     "data": {
      "text/plain": [
       "('bar',)"
      ]
     },
     "execution_count": 4,
     "metadata": {},
     "output_type": "execute_result"
    }
   ],
   "source": [
    "foo.__code__.co_varnames # printing the local variables inside the 'foo' function"
   ]
  },
  {
   "cell_type": "code",
   "execution_count": 5,
   "metadata": {},
   "outputs": [
    {
     "name": "stdout",
     "output_type": "stream",
     "text": [
      "bar\n",
      "<class 'function'>\n",
      "Hi\n"
     ]
    }
   ],
   "source": [
    "# Running the function foo returns the function bar\n",
    "f = foo()\n",
    "print (f.__name__)\n",
    "print (type(f))\n",
    "f()"
   ]
  },
  {
   "cell_type": "markdown",
   "metadata": {},
   "source": [
    "Each time we call the function `foo` we are creating a new instance of the function `bar`, the instances have the same bytecode but they are different. "
   ]
  },
  {
   "cell_type": "code",
   "execution_count": 7,
   "metadata": {},
   "outputs": [
    {
     "name": "stdout",
     "output_type": "stream",
     "text": [
      "Hi\n",
      "False\n"
     ]
    }
   ],
   "source": [
    "f2 = foo()\n",
    "f2()\n",
    "print(f is f2) # f and f2 are different objects"
   ]
  },
  {
   "cell_type": "markdown",
   "metadata": {},
   "source": [
    "#### with passing parameters "
   ]
  },
  {
   "cell_type": "code",
   "execution_count": 8,
   "metadata": {},
   "outputs": [],
   "source": [
    "def foo(x):\n",
    "    def bar(y):\n",
    "        print(x , y)\n",
    "    return bar"
   ]
  },
  {
   "cell_type": "code",
   "execution_count": 9,
   "metadata": {},
   "outputs": [
    {
     "name": "stdout",
     "output_type": "stream",
     "text": [
      "10 3\n"
     ]
    }
   ],
   "source": [
    "b1 = foo (10) #bar is a closure, it has access to 'foo' local variables\n",
    "b1 (3)"
   ]
  },
  {
   "cell_type": "code",
   "execution_count": 10,
   "metadata": {},
   "outputs": [
    {
     "name": "stdout",
     "output_type": "stream",
     "text": [
      "20 4\n"
     ]
    }
   ],
   "source": [
    "b2 = foo (20)\n",
    "b2 (4)"
   ]
  },
  {
   "cell_type": "markdown",
   "metadata": {},
   "source": [
    "What's happening here is the outer scope stick around from invokation to invokation"
   ]
  },
  {
   "cell_type": "markdown",
   "metadata": {},
   "source": [
    "#### LEGB : the identifier lookup rules for Python\n",
    "- local\n",
    "- enclosing\n",
    "- global\n",
    "- builtins"
   ]
  },
  {
   "cell_type": "markdown",
   "metadata": {},
   "source": [
    "Where will we use closure ? **Deracorators**"
   ]
  },
  {
   "cell_type": "code",
   "execution_count": 14,
   "metadata": {},
   "outputs": [
    {
     "name": "stdout",
     "output_type": "stream",
     "text": [
      "Calling <function hello at 0x0000029700F00168>, time 1\n"
     ]
    },
    {
     "data": {
      "text/plain": [
       "'Hello, world'"
      ]
     },
     "execution_count": 14,
     "metadata": {},
     "output_type": "execute_result"
    }
   ],
   "source": [
    "def count_calls(func):\n",
    "    count =0\n",
    "    def call_func(*args, **kwargs):\n",
    "        nonlocal count # this will assign to count_calls count\n",
    "        count +=1\n",
    "        print(f\"Calling {func}, time {count}\")\n",
    "        return func (*args, **kwargs)\n",
    "    return call_func\n",
    "\n",
    "@count_calls  # decorating the function ' hello' means : hello = count_calls(hello)\n",
    "def hello(name):\n",
    "    return f'Hello, {name}'\n",
    "hello('world')"
   ]
  },
  {
   "cell_type": "code",
   "execution_count": 15,
   "metadata": {},
   "outputs": [
    {
     "name": "stdout",
     "output_type": "stream",
     "text": [
      "Calling <function hello at 0x0000029700F00168>, time 2\n"
     ]
    },
    {
     "data": {
      "text/plain": [
       "'Hello, there'"
      ]
     },
     "execution_count": 15,
     "metadata": {},
     "output_type": "execute_result"
    }
   ],
   "source": [
    "hello('there')"
   ]
  },
  {
   "cell_type": "markdown",
   "metadata": {},
   "source": [
    "So the outer function variables are accessable through the inner function, in the inner function they can be read, to modify them we need to use `nonlocal`"
   ]
  },
  {
   "cell_type": "markdown",
   "metadata": {},
   "source": [
    "A **Closure** is a function that is returned from a function,and the inner function has access to the outer function variables."
   ]
  }
 ],
 "metadata": {
  "kernelspec": {
   "display_name": "Python 3.7.8 64-bit",
   "language": "python",
   "name": "python3"
  },
  "language_info": {
   "codemirror_mode": {
    "name": "ipython",
    "version": 3
   },
   "file_extension": ".py",
   "mimetype": "text/x-python",
   "name": "python",
   "nbconvert_exporter": "python",
   "pygments_lexer": "ipython3",
   "version": "3.7.8"
  },
  "orig_nbformat": 4,
  "vscode": {
   "interpreter": {
    "hash": "0a54084e6b208ee8d1ce3989ffc20924477a5f55f5a43e22e699a6741623861e"
   }
  }
 },
 "nbformat": 4,
 "nbformat_minor": 2
}
