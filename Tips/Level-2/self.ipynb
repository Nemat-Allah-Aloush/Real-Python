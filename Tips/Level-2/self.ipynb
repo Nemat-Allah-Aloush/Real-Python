{
 "cells": [
  {
   "cell_type": "markdown",
   "metadata": {},
   "source": [
    "### What is Self?!"
   ]
  },
  {
   "cell_type": "markdown",
   "metadata": {},
   "source": [
    "Self is a paramater, it is a local variable.\n",
    "\n",
    "The word self is a convention, it is not a reserved word. (It can be named as you wish, in Python it is usually named Self).\n",
    "\n",
    "In a class, every method's first parameter must be 'self' , and it referes to the instance we're running on now.\n",
    "\n",
    "'Self' reduce ambiguity, makes scoping (LEGB) easier to implement and understand.\n",
    "\n",
    "When Python rewrites the method call, the instance becomes the first argument."
   ]
  },
  {
   "cell_type": "code",
   "execution_count": 1,
   "metadata": {},
   "outputs": [
    {
     "data": {
      "text/plain": [
       "'Halo Nina'"
      ]
     },
     "execution_count": 1,
     "metadata": {},
     "output_type": "execute_result"
    }
   ],
   "source": [
    "class Person():\n",
    "    def __init__(self, name):\n",
    "        self.name = name\n",
    "    def greet(self): # It won't work without writing the first argument as 'self'\n",
    "        return f'Halo {self.name}'\n",
    "nina = Person(\"Nina\")\n",
    "nina.greet() # This line of code has been rewrote as: Person.greet(nina)"
   ]
  },
  {
   "cell_type": "code",
   "execution_count": null,
   "metadata": {},
   "outputs": [],
   "source": []
  }
 ],
 "metadata": {
  "kernelspec": {
   "display_name": "Python 3.7.8 64-bit",
   "language": "python",
   "name": "python3"
  },
  "language_info": {
   "codemirror_mode": {
    "name": "ipython",
    "version": 3
   },
   "file_extension": ".py",
   "mimetype": "text/x-python",
   "name": "python",
   "nbconvert_exporter": "python",
   "pygments_lexer": "ipython3",
   "version": "3.7.8"
  },
  "orig_nbformat": 4,
  "vscode": {
   "interpreter": {
    "hash": "0a54084e6b208ee8d1ce3989ffc20924477a5f55f5a43e22e699a6741623861e"
   }
  }
 },
 "nbformat": 4,
 "nbformat_minor": 2
}
