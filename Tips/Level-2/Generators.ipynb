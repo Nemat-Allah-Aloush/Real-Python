{
 "cells": [
  {
   "cell_type": "markdown",
   "metadata": {},
   "source": [
    "### Genrators"
   ]
  },
  {
   "cell_type": "markdown",
   "metadata": {},
   "source": [
    "Generator function looks like a normal function, except that instead of return statements it uses the yield statement, yield return a value to the caller but the function does not go away entirelly, instead the function pauses and when the caller asks for the next value, the generator continues wherever it left off."
   ]
  },
  {
   "cell_type": "markdown",
   "metadata": {},
   "source": [
    "The problem is to write a generator that read n line from a file. In each iteration over the file, the generator has to return n line from the file, or the reamining lines when there is less than n line left.  "
   ]
  },
  {
   "cell_type": "code",
   "execution_count": null,
   "metadata": {},
   "outputs": [],
   "source": [
    "def read_n(filename, n):\n",
    "    f = open (filename)\n",
    "    while True:\n",
    "        one_chunk = ''.join(f.readline() for i in range (n))\n",
    "        if one_chunk:\n",
    "            yield one_chunk\n",
    "        else:\n",
    "            break\n",
    "\n",
    "for one_chunk in read_n(\"filename\", 5):\n",
    "    print(one_chunk)"
   ]
  }
 ],
 "metadata": {
  "kernelspec": {
   "display_name": "Python 3.7.8 64-bit",
   "language": "python",
   "name": "python3"
  },
  "language_info": {
   "name": "python",
   "version": "3.7.8"
  },
  "orig_nbformat": 4,
  "vscode": {
   "interpreter": {
    "hash": "0a54084e6b208ee8d1ce3989ffc20924477a5f55f5a43e22e699a6741623861e"
   }
  }
 },
 "nbformat": 4,
 "nbformat_minor": 2
}
