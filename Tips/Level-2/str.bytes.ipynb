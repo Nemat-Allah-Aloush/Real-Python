{
 "cells": [
  {
   "cell_type": "markdown",
   "metadata": {},
   "source": [
    "### str vs bytes ?"
   ]
  },
  {
   "cell_type": "markdown",
   "metadata": {},
   "source": [
    "In Python3, when we creat a string variable, how it is represented im memory?\n",
    "\n",
    "Previously a string variable was presented as a series of bytes, and each byte is an eight bit number. Known as **ASCII**, whee there's room for lattin letters and bunch of numbers and symbols. However when we want to work with different language, the byte system does not work anymore.\n",
    "\n",
    "In Python3, the string variable type is `str` and it contains characters instead of bytes.\n",
    "\n",
    "In both systems, byte-represented and character-represented, considering English letters, there will be no different between a byte and a character, because a character is represented by a byte. However in case of typing in other alphabits, the character will be represented by 2 bytes. \n",
    "\n",
    "The thing is that there's no enough room for all the characters in **ASCII** that's why the **Unicode** was introduced. Unicode means that here is a unique identification number for every character ever created by people, emojis are included.\n"
   ]
  },
  {
   "cell_type": "markdown",
   "metadata": {},
   "source": [
    "The system that Python and other languages are using is **UTF-8**. UTF-8 is a variable length in coding. It means that if the character existed in ASCII, we keep it the way it is, if it's in another languages, then we will need aditional bytes, 2,3,4, maybe even 5 bytes."
   ]
  },
  {
   "cell_type": "markdown",
   "metadata": {},
   "source": [
    "In Python3 strings contain unicode characters."
   ]
  },
  {
   "cell_type": "markdown",
   "metadata": {},
   "source": [
    "Sometimes we need to use byte strings, for example if we are reading from pdf. Byte strings are the same as unicode strings but we write b in the beging of it, as follows:"
   ]
  },
  {
   "cell_type": "code",
   "execution_count": 7,
   "metadata": {},
   "outputs": [
    {
     "data": {
      "text/plain": [
       "5"
      ]
     },
     "execution_count": 7,
     "metadata": {},
     "output_type": "execute_result"
    }
   ],
   "source": [
    "unicode_string = 'مرحبا'\n",
    "len(unicode_string)"
   ]
  },
  {
   "cell_type": "code",
   "execution_count": 6,
   "metadata": {},
   "outputs": [
    {
     "ename": "SyntaxError",
     "evalue": "bytes can only contain ASCII literal characters. (Temp/ipykernel_4144/122398827.py, line 1)",
     "output_type": "error",
     "traceback": [
      "\u001b[1;36m  File \u001b[1;32m\"C:\\Users\\User\\AppData\\Local\\Temp/ipykernel_4144/122398827.py\"\u001b[1;36m, line \u001b[1;32m1\u001b[0m\n\u001b[1;33m    byte_string = b'مرحبا'\u001b[0m\n\u001b[1;37m                 ^\u001b[0m\n\u001b[1;31mSyntaxError\u001b[0m\u001b[1;31m:\u001b[0m bytes can only contain ASCII literal characters.\n"
     ]
    }
   ],
   "source": [
    "# Byte strings are the same as unicode strings but we write b in the beging of it\n",
    "# However this can't be performed over the non latin characters\n",
    "byte_string = b'مرحبا'\n",
    "len(byte_string)"
   ]
  },
  {
   "cell_type": "code",
   "execution_count": 8,
   "metadata": {},
   "outputs": [
    {
     "data": {
      "text/plain": [
       "b'\\xd9\\x85\\xd8\\xb1\\xd8\\xad\\xd8\\xa8\\xd8\\xa7'"
      ]
     },
     "execution_count": 8,
     "metadata": {},
     "output_type": "execute_result"
    }
   ],
   "source": [
    "# how to get byte strings for non latin characters\n",
    "unicode_string.encode()\n",
    "# the output is a byte string, which is an individual Hex byte that make that character"
   ]
  },
  {
   "cell_type": "code",
   "execution_count": 9,
   "metadata": {},
   "outputs": [
    {
     "name": "stdout",
     "output_type": "stream",
     "text": [
      "b'\\xd9\\x85\\xd8\\xb1\\xd8\\xad\\xd8\\xa8\\xd8\\xa7'\n"
     ]
    }
   ],
   "source": [
    "byte_string= b'\\xd9\\x85\\xd8\\xb1\\xd8\\xad\\xd8\\xa8\\xd8\\xa7'\n",
    "print(byte_string)"
   ]
  },
  {
   "cell_type": "code",
   "execution_count": 11,
   "metadata": {},
   "outputs": [
    {
     "data": {
      "text/plain": [
       "'مرحبا'"
      ]
     },
     "execution_count": 11,
     "metadata": {},
     "output_type": "execute_result"
    }
   ],
   "source": [
    "# converting the byte string into character string\n",
    "byte_string.decode('utf-8')"
   ]
  }
 ],
 "metadata": {
  "kernelspec": {
   "display_name": "Python 3.7.8 64-bit",
   "language": "python",
   "name": "python3"
  },
  "language_info": {
   "codemirror_mode": {
    "name": "ipython",
    "version": 3
   },
   "file_extension": ".py",
   "mimetype": "text/x-python",
   "name": "python",
   "nbconvert_exporter": "python",
   "pygments_lexer": "ipython3",
   "version": "3.7.8"
  },
  "orig_nbformat": 4,
  "vscode": {
   "interpreter": {
    "hash": "0a54084e6b208ee8d1ce3989ffc20924477a5f55f5a43e22e699a6741623861e"
   }
  }
 },
 "nbformat": 4,
 "nbformat_minor": 2
}
