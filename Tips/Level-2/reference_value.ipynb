{
 "cells": [
  {
   "cell_type": "markdown",
   "metadata": {},
   "source": [
    "### Are arguments in Python passed by value, or by reference?"
   ]
  },
  {
   "cell_type": "code",
   "execution_count": 9,
   "metadata": {},
   "outputs": [
    {
     "name": "stdout",
     "output_type": "stream",
     "text": [
      "7\n",
      "by value\n"
     ]
    }
   ],
   "source": [
    "def square(y): \n",
    "    y = y**2 # breaks the connection to previous data\n",
    "x = 7\n",
    "square(x)\n",
    "print(x)\n",
    "print (\"by value\") if x==7 else print(\"by reference\")"
   ]
  },
  {
   "cell_type": "code",
   "execution_count": 12,
   "metadata": {},
   "outputs": [
    {
     "name": "stdout",
     "output_type": "stream",
     "text": [
      "[1, 2, 3, 10]\n",
      "by reference\n"
     ]
    }
   ],
   "source": [
    "def add_one(y):\n",
    "    y.append(10)\n",
    "x = [1,2,3]\n",
    "add_one(x)\n",
    "print(x)\n",
    "print (\"by value\") if x==[1,2,3] else print(\"by reference\")"
   ]
  },
  {
   "cell_type": "markdown",
   "metadata": {},
   "source": [
    "- In case of passing mutable/immutable data and there is *assignement* in the function: the variable outside the function will not be edited \n",
    "- In case of passing mutable data and envoking a method that modify the variable:  both variables (inside and outside) the fuction will be effected\n"
   ]
  }
 ],
 "metadata": {
  "kernelspec": {
   "display_name": "Python 3.7.8 64-bit",
   "language": "python",
   "name": "python3"
  },
  "language_info": {
   "codemirror_mode": {
    "name": "ipython",
    "version": 3
   },
   "file_extension": ".py",
   "mimetype": "text/x-python",
   "name": "python",
   "nbconvert_exporter": "python",
   "pygments_lexer": "ipython3",
   "version": "3.7.8"
  },
  "orig_nbformat": 4,
  "vscode": {
   "interpreter": {
    "hash": "0a54084e6b208ee8d1ce3989ffc20924477a5f55f5a43e22e699a6741623861e"
   }
  }
 },
 "nbformat": 4,
 "nbformat_minor": 2
}
