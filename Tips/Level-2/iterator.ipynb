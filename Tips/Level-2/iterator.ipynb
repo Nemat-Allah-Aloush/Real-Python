{
 "cells": [
  {
   "cell_type": "markdown",
   "metadata": {},
   "source": [
    "### How does the iterator protocol work in Python?"
   ]
  },
  {
   "cell_type": "code",
   "execution_count": 1,
   "metadata": {},
   "outputs": [
    {
     "name": "stdout",
     "output_type": "stream",
     "text": [
      "a\n",
      "b\n",
      "c\n",
      "d\n"
     ]
    }
   ],
   "source": [
    "# loops examples\n",
    "for one_item in 'abcd': # returns one letter t a time\n",
    "    print(one_item)"
   ]
  },
  {
   "cell_type": "code",
   "execution_count": null,
   "metadata": {},
   "outputs": [],
   "source": [
    "for one_item in open('filepath'): # returns one line at a time\n",
    "    print(one_item)"
   ]
  },
  {
   "cell_type": "markdown",
   "metadata": {},
   "source": [
    "The same loop worked in a different way.\n",
    "\n",
    "How these loops work ? *Iterator Protocol*\n",
    "- First, the object is checked whether it is iterable. \n",
    "- Then, if the object is iterable, the first element of it checked if it's iterable.\n",
    "- Then the whole process is repeated until we get a `StopIteration` exception."
   ]
  },
  {
   "cell_type": "markdown",
   "metadata": {},
   "source": [
    "HOw python knows if an object is iterable ? `iter` function.\n",
    "\n",
    "Each time we run `iter` function, it will give different object, even if it was run on the same object."
   ]
  },
  {
   "cell_type": "code",
   "execution_count": 4,
   "metadata": {},
   "outputs": [
    {
     "data": {
      "text/plain": [
       "<str_iterator at 0x1d9b2bd9288>"
      ]
     },
     "execution_count": 4,
     "metadata": {},
     "output_type": "execute_result"
    }
   ],
   "source": [
    "s = \"abcd\"\n",
    "iter(s) "
   ]
  },
  {
   "cell_type": "code",
   "execution_count": 5,
   "metadata": {},
   "outputs": [
    {
     "data": {
      "text/plain": [
       "'a'"
      ]
     },
     "execution_count": 5,
     "metadata": {},
     "output_type": "execute_result"
    }
   ],
   "source": [
    "iterator = iter(s)\n",
    "next(iterator)"
   ]
  },
  {
   "cell_type": "code",
   "execution_count": 6,
   "metadata": {},
   "outputs": [
    {
     "data": {
      "text/plain": [
       "'b'"
      ]
     },
     "execution_count": 6,
     "metadata": {},
     "output_type": "execute_result"
    }
   ],
   "source": [
    "next(iterator)"
   ]
  },
  {
   "cell_type": "code",
   "execution_count": 7,
   "metadata": {},
   "outputs": [
    {
     "data": {
      "text/plain": [
       "'c'"
      ]
     },
     "execution_count": 7,
     "metadata": {},
     "output_type": "execute_result"
    }
   ],
   "source": [
    "next(iterator)"
   ]
  },
  {
   "cell_type": "code",
   "execution_count": 8,
   "metadata": {},
   "outputs": [
    {
     "data": {
      "text/plain": [
       "'d'"
      ]
     },
     "execution_count": 8,
     "metadata": {},
     "output_type": "execute_result"
    }
   ],
   "source": [
    "next(iterator)"
   ]
  },
  {
   "cell_type": "code",
   "execution_count": 9,
   "metadata": {},
   "outputs": [
    {
     "ename": "StopIteration",
     "evalue": "",
     "output_type": "error",
     "traceback": [
      "\u001b[1;31m---------------------------------------------------------------------------\u001b[0m",
      "\u001b[1;31mStopIteration\u001b[0m                             Traceback (most recent call last)",
      "\u001b[1;32m~\\AppData\\Local\\Temp/ipykernel_9488/4235178104.py\u001b[0m in \u001b[0;36m<module>\u001b[1;34m\u001b[0m\n\u001b[1;32m----> 1\u001b[1;33m \u001b[0mnext\u001b[0m\u001b[1;33m(\u001b[0m\u001b[0miterator\u001b[0m\u001b[1;33m)\u001b[0m\u001b[1;33m\u001b[0m\u001b[1;33m\u001b[0m\u001b[0m\n\u001b[0m",
      "\u001b[1;31mStopIteration\u001b[0m: "
     ]
    }
   ],
   "source": [
    "next(iterator)"
   ]
  },
  {
   "cell_type": "markdown",
   "metadata": {},
   "source": [
    "So, the for loop runs `iter()`, if it worked and gave it a value back, then the for loop will go back to that iterator and keep calling `next()` on it until it get `stopIteration` exception."
   ]
  },
  {
   "cell_type": "code",
   "execution_count": null,
   "metadata": {},
   "outputs": [],
   "source": [
    "# A simulation:\n",
    "def myfor(data):\n",
    "    i = iter(data)\n",
    "    while True:\n",
    "        try:\n",
    "            return next(i)\n",
    "        except StopIteration:\n",
    "            break"
   ]
  },
  {
   "cell_type": "markdown",
   "metadata": {},
   "source": [
    "An **iteration protocl** can be applied on a **class** we create."
   ]
  },
  {
   "cell_type": "code",
   "execution_count": 15,
   "metadata": {},
   "outputs": [
    {
     "name": "stdout",
     "output_type": "stream",
     "text": [
      "1\n",
      "a\n",
      "a\n",
      "b\n",
      "b\n",
      "c\n",
      "c\n",
      "d\n",
      "d\n",
      "2\n",
      "a\n",
      "a\n",
      "b\n",
      "b\n",
      "c\n",
      "c\n",
      "d\n",
      "d\n"
     ]
    }
   ],
   "source": [
    "class DoubleIterIterator():\n",
    "    def __init__(self,data):\n",
    "        self.data=data\n",
    "        self.index=0\n",
    "    def __next__(self):\n",
    "        if self.index>=len(self.data)*2:\n",
    "            raise StopIteration\n",
    "        value = self.data[int(self.index/2)]\n",
    "        self.index += 1\n",
    "        return value\n",
    "class DoubleIter():\n",
    "    def __init__(self,data):\n",
    "        self.data=data\n",
    "        self.index=0\n",
    "    def __iter__(self):\n",
    "        return DoubleIterIterator(self.data)\n",
    "   \n",
    "d = DoubleIter('abcd')\n",
    "print(\"1\")\n",
    "for one_item in d:\n",
    "    print(one_item)\n",
    "print(\"2\")\n",
    "for one_item in d:\n",
    "    print(one_item)\n"
   ]
  },
  {
   "cell_type": "markdown",
   "metadata": {},
   "source": [
    "The advantage of having `DoubleIterIterator` class that holds the functionality of iteration, is that we can iterate from the top over the same object from `DoubleIter` as many times as we want. "
   ]
  }
 ],
 "metadata": {
  "kernelspec": {
   "display_name": "Python 3.7.8 64-bit",
   "language": "python",
   "name": "python3"
  },
  "language_info": {
   "codemirror_mode": {
    "name": "ipython",
    "version": 3
   },
   "file_extension": ".py",
   "mimetype": "text/x-python",
   "name": "python",
   "nbconvert_exporter": "python",
   "pygments_lexer": "ipython3",
   "version": "3.7.8"
  },
  "orig_nbformat": 4,
  "vscode": {
   "interpreter": {
    "hash": "0a54084e6b208ee8d1ce3989ffc20924477a5f55f5a43e22e699a6741623861e"
   }
  }
 },
 "nbformat": 4,
 "nbformat_minor": 2
}
