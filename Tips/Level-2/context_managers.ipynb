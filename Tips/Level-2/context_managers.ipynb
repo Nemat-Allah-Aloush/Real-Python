{
 "cells": [
  {
   "cell_type": "markdown",
   "metadata": {},
   "source": [
    "### What does `with` statements do ?\n"
   ]
  },
  {
   "cell_type": "markdown",
   "metadata": {},
   "source": [
    "##### Example 1 : with files\n",
    "`with` here automatically flush the buffer and close the file.\n",
    "\n",
    "Ususally when we write to a file, the data is at first written to a buffer and at some point, the buffer is flushed to the file and the file is closed."
   ]
  },
  {
   "cell_type": "code",
   "execution_count": 1,
   "metadata": {},
   "outputs": [],
   "source": [
    "with open('filepath.txt','w') as f: \n",
    "    #f.__enter__()#\n",
    "    f.write('abcd\\n')\n",
    "    #f.__exist__()#"
   ]
  },
  {
   "cell_type": "code",
   "execution_count": 3,
   "metadata": {},
   "outputs": [
    {
     "data": {
      "text/plain": [
       "True"
      ]
     },
     "execution_count": 3,
     "metadata": {},
     "output_type": "execute_result"
    }
   ],
   "source": [
    "f.closed # Is the file closed ?!"
   ]
  },
  {
   "cell_type": "markdown",
   "metadata": {},
   "source": [
    "with implemets context manager protocol, which means :\n",
    "- object implements `__enter__`\n",
    "- object implements `__exit__`"
   ]
  },
  {
   "cell_type": "markdown",
   "metadata": {},
   "source": [
    "##### Example 2: Write a class that make a use of `with` and shows context manager."
   ]
  },
  {
   "cell_type": "code",
   "execution_count": 13,
   "metadata": {},
   "outputs": [],
   "source": [
    "# we can implement anything we want inside 'enter' and 'exit' ..\n",
    "# the idea is to implement sth before and after a certain sth\n",
    "import sys\n",
    "class Logfile():\n",
    "    def __init__(self, filename):\n",
    "        self.filename= filename\n",
    "    def __enter__(self):\n",
    "        print(\"ENTER\")\n",
    "        self.f = open(self.filename, 'a')\n",
    "        return self\n",
    "    def __exit__(self, *args):\n",
    "        print(\"EXIT\")\n",
    "        self.f.close()\n"
   ]
  },
  {
   "cell_type": "code",
   "execution_count": 14,
   "metadata": {},
   "outputs": [
    {
     "name": "stdout",
     "output_type": "stream",
     "text": [
      "ENTER\n",
      "Hello\n",
      "EXIT\n"
     ]
    }
   ],
   "source": [
    "with Logfile('mylog.txt') as lf:\n",
    "    print(\"Hello\")"
   ]
  },
  {
   "cell_type": "markdown",
   "metadata": {},
   "source": [
    "Editing the example to change the standard stdout and returning it to its default between `__enter__` and `__exit__`"
   ]
  },
  {
   "cell_type": "code",
   "execution_count": 15,
   "metadata": {},
   "outputs": [],
   "source": [
    "import sys\n",
    "class Logfile():\n",
    "    def __init__(self, filename):\n",
    "        self.filename= filename\n",
    "    def __enter__(self):\n",
    "        print(\"ENTER\")\n",
    "        self.old_stdout = sys.stdout\n",
    "        sys.stdout = open (self.filename, 'a')\n",
    "        return self\n",
    "    def __exit__(self, *args):\n",
    "        print(\"EXIT\")\n",
    "        sys.stdout = self.old_stdout"
   ]
  },
  {
   "cell_type": "code",
   "execution_count": 16,
   "metadata": {},
   "outputs": [
    {
     "name": "stdout",
     "output_type": "stream",
     "text": [
      "ENTER\n"
     ]
    }
   ],
   "source": [
    "with Logfile('mylog.txt') as lf:\n",
    "    print(\"Hello\")"
   ]
  },
  {
   "cell_type": "markdown",
   "metadata": {},
   "source": [
    "Using the library `contextmanager`"
   ]
  },
  {
   "cell_type": "code",
   "execution_count": 20,
   "metadata": {},
   "outputs": [],
   "source": [
    "from contextlib import contextmanager\n",
    "\n",
    "@contextmanager\n",
    "def temp_reset_stdout(filename):\n",
    "    print(\"In __enter__(2)\")\n",
    "    old_stdout = sys.stdout\n",
    "    sys.stdout = open (filename, 'w')\n",
    "\n",
    "    yield\n",
    "\n",
    "    print(\"In __exit__ (2)\")\n",
    "    sys.stdout = old_stdout"
   ]
  },
  {
   "cell_type": "code",
   "execution_count": 21,
   "metadata": {},
   "outputs": [
    {
     "name": "stdout",
     "output_type": "stream",
     "text": [
      "In __enter__(2)\n"
     ]
    }
   ],
   "source": [
    "with temp_reset_stdout('mylog.txt') as lf:\n",
    "    print(\"Hello\")"
   ]
  }
 ],
 "metadata": {
  "kernelspec": {
   "display_name": "Python 3.7.8 64-bit",
   "language": "python",
   "name": "python3"
  },
  "language_info": {
   "codemirror_mode": {
    "name": "ipython",
    "version": 3
   },
   "file_extension": ".py",
   "mimetype": "text/x-python",
   "name": "python",
   "nbconvert_exporter": "python",
   "pygments_lexer": "ipython3",
   "version": "3.7.8"
  },
  "orig_nbformat": 4,
  "vscode": {
   "interpreter": {
    "hash": "0a54084e6b208ee8d1ce3989ffc20924477a5f55f5a43e22e699a6741623861e"
   }
  }
 },
 "nbformat": 4,
 "nbformat_minor": 2
}
