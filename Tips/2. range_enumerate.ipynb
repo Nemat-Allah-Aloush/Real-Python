{
 "cells": [
  {
   "cell_type": "markdown",
   "metadata": {},
   "source": [
    "### range() vs enumerate()\n",
    "enumerate() , takes an itterable and enumerate through it and returns tuple, where the first element of the tuple is the index and the second element is the value."
   ]
  },
  {
   "cell_type": "code",
   "execution_count": null,
   "metadata": {},
   "outputs": [
    {
     "name": "stdout",
     "output_type": "stream",
     "text": [
      " by range()\n",
      "0:1 1:1 2:2 3:3 4:5 5:8 \n",
      " by emmurate()\n",
      "0:1 1:1 2:2 3:3 4:5 5:8 "
     ]
    }
   ],
   "source": [
    "list = [1,1,2,3,5,8]\n",
    "print (\" by range()\")\n",
    "for i in range (len(list)):\n",
    "    print (f'{i}:{list[i]}', end =\" \")\n",
    "print(\"\\n by emmurate()\")\n",
    "for i,num in enumerate(list):\n",
    "    print (f'{i}:{num}', end =\" \")"
   ]
  },
  {
   "cell_type": "markdown",
   "metadata": {},
   "source": [
    "Additional thing about enumerate, we can pass a 'start' variable to start the index with it "
   ]
  },
  {
   "cell_type": "code",
   "execution_count": null,
   "metadata": {},
   "outputs": [
    {
     "name": "stdout",
     "output_type": "stream",
     "text": [
      "[(0, 1), (1, 2), (2, 3)]\n"
     ]
    },
    {
     "data": {
      "text/plain": [
       "[(10, 1), (11, 2), (12, 3)]"
      ]
     },
     "metadata": {},
     "output_type": "display_data"
    }
   ],
   "source": [
    "print([element for element in enumerate([1,2,3])])\n",
    "print ([element for element in enumerate([1,2,3], start= 10)])"
   ]
  }
 ],
 "metadata": {
  "language_info": {
   "name": "python"
  },
  "orig_nbformat": 4
 },
 "nbformat": 4,
 "nbformat_minor": 2
}
