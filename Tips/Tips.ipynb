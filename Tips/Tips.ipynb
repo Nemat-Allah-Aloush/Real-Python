{
 "cells": [
  {
   "cell_type": "markdown",
   "metadata": {},
   "source": [
    "### Immutable vs Mutable\n",
    "Some types in python are mutable (can be changed), while others are immutable (can not be changed).\n",
    "\n",
    "Immutable types : string, bool, int, float, tuple.\n",
    "Mutable type : list, dict, set.\n",
    "\n",
    "Immutable benefits :\n",
    "- variables can not be changed => their sizes fixed in the memory\n",
    "- variables pointed to the same immutablevariable have the same value\n",
    "\n",
    "Notes:\n",
    "* Mutable types are not hashable == > they can not be the key to a dictionary\n",
    "* A tuple is immutable so it is hashable as long as it contains immutable data all the way down."
   ]
  },
  {
   "cell_type": "code",
   "execution_count": 13,
   "metadata": {},
   "outputs": [
    {
     "name": "stdout",
     "output_type": "stream",
     "text": [
      "Hello Hello\n",
      "Hello! Hello\n",
      "The string itself did not change, meanwhile first_s is pointing to a new string equal to the new value :Hello!\n"
     ]
    }
   ],
   "source": [
    "## string\n",
    "first_s = 'Hello'\n",
    "# s[0] = '1' # can not be done because string is immutable\n",
    "second_s = first_s\n",
    "print (first_s, second_s)\n",
    "first_s += \"!\" \n",
    "print (first_s, second_s)\n",
    "print (\"The string itself did not change, meanwhile first_s is pointing to a new string equal to the new value: Hello!\")"
   ]
  },
  {
   "cell_type": "code",
   "execution_count": 11,
   "metadata": {},
   "outputs": [
    {
     "name": "stdout",
     "output_type": "stream",
     "text": [
      "[1, 2, 3] [1, 2, 3]\n",
      "[0, 2, 3] [0, 2, 3]\n",
      "Both variables refer to the same list and the list itself has changed\n"
     ]
    }
   ],
   "source": [
    "## list\n",
    "list = [1,2,3]\n",
    "list_2 = list\n",
    "print (list, list_2)\n",
    "list[0]=0\n",
    "print (list, list_2)  \n",
    "print (\"Both variables refer to the same list and the list itself has changed\")"
   ]
  },
  {
   "cell_type": "markdown",
   "metadata": {},
   "source": [
    "### range() vs enumerate()\n",
    "enumerate() , takes an itterable and enumerate through it and returns tuple, where the first element of the tuple is the index and the second element is the value."
   ]
  },
  {
   "cell_type": "code",
   "execution_count": 15,
   "metadata": {},
   "outputs": [
    {
     "name": "stdout",
     "output_type": "stream",
     "text": [
      " by range()\n",
      "0:1 1:1 2:2 3:3 4:5 5:8 \n",
      " by emmurate()\n",
      "0:1 1:1 2:2 3:3 4:5 5:8 "
     ]
    }
   ],
   "source": [
    "list = [1,1,2,3,5,8]\n",
    "print (\" by range()\")\n",
    "for i in range (len(list)):\n",
    "    print (f'{i}:{list[i]}', end =\" \")\n",
    "print(\"\\n by emmurate()\")\n",
    "for i,num in enumerate(list):\n",
    "    print (f'{i}:{num}', end =\" \")"
   ]
  },
  {
   "cell_type": "markdown",
   "metadata": {},
   "source": [
    "Additional thing about enumerate, we can pass a 'start' variable to start the index with it "
   ]
  },
  {
   "cell_type": "code",
   "execution_count": 18,
   "metadata": {},
   "outputs": [
    {
     "name": "stdout",
     "output_type": "stream",
     "text": [
      "[(0, 1), (1, 2), (2, 3)]\n"
     ]
    },
    {
     "data": {
      "text/plain": [
       "[(10, 1), (11, 2), (12, 3)]"
      ]
     },
     "execution_count": 18,
     "metadata": {},
     "output_type": "execute_result"
    }
   ],
   "source": [
    "print([element for element in enumerate([1,2,3])])\n",
    "print ([element for element in enumerate([1,2,3], start= 10)])"
   ]
  },
  {
   "cell_type": "markdown",
   "metadata": {},
   "source": [
    "### List Comprehensions and Built-In Functions on Lists"
   ]
  },
  {
   "cell_type": "code",
   "execution_count": 15,
   "metadata": {},
   "outputs": [
    {
     "name": "stdout",
     "output_type": "stream",
     "text": [
      "First method:  [1, 4, 9, 16]\n",
      "Second method:  [1, 4, 9, 16]\n",
      "Third method:  [1, 4, 9, 16]\n"
     ]
    }
   ],
   "source": [
    "def square(x):\n",
    "    return x *x \n",
    "list=[1,2,3,-4]\n",
    "# first method to find the square of a list\n",
    "results = []\n",
    "for num in list:\n",
    "    results.append(square(num))\n",
    "print ('First method: ', results)\n",
    "# second method to find the square of a list  //map method//\n",
    "results_2 = [*map(square,list)]\n",
    "print ('Second method: ', results_2)\n",
    "# third method to find the square of a list //list comprehension//\n",
    "results_3 = [square(x) for x in list] \n",
    "print ('Third method: ', results_3)\n"
   ]
  },
  {
   "cell_type": "code",
   "execution_count": 16,
   "metadata": {},
   "outputs": [
    {
     "name": "stdout",
     "output_type": "stream",
     "text": [
      "First method:  [1, 3]\n",
      "Second method:  [1, 3]\n"
     ]
    }
   ],
   "source": [
    "def is_odd(x):\n",
    "    return x%2==1\n",
    "# 1st way to filter odd numbers   //filter method//\n",
    "result_4=[*filter(is_odd,list)]\n",
    "print ('First method: ', result_4)\n",
    "# 2nd way to filter odd numbers   //list comprehension//\n",
    "result_5=[num for num in list if is_odd(num)]\n",
    "print ('Second method: ', result_5)"
   ]
  },
  {
   "cell_type": "code",
   "execution_count": 17,
   "metadata": {},
   "outputs": [
    {
     "name": "stdout",
     "output_type": "stream",
     "text": [
      "Max 3\n",
      "Num with the Max Square -4\n",
      "Min -4\n",
      "Num with the Min Square 1\n",
      "Any? True\n",
      "All? True\n"
     ]
    }
   ],
   "source": [
    "## Useful built-in functions for list\n",
    "# 1. max()\n",
    "print(\"Max\", max(list))\n",
    "#   max function with a key\n",
    "print(\"Num with the Max Square\", max(list, key=lambda x:x*x))\n",
    "# 2. min()\n",
    "print(\"Min\", min(list))\n",
    "#   min function with a key\n",
    "print(\"Num with the Min Square\", min(list, key=lambda x:x*x))\n",
    "# 3.Any(), takes an iterable and returns true if any of the elements is true\n",
    "print(\"Any?\", any(list))\n",
    "# 4.All(), takes an iterable and returns true if all of the elements is true\n",
    "print(\"All?\", all(list))\n"
   ]
  },
  {
   "cell_type": "markdown",
   "metadata": {},
   "source": [
    "## fstring"
   ]
  },
  {
   "cell_type": "code",
   "execution_count": 4,
   "metadata": {},
   "outputs": [
    {
     "name": "stdout",
     "output_type": "stream",
     "text": [
      "My name is Mark. I am 10 years old\n",
      "My name is Mark I am 12 years old\n",
      "My name is Mark I am 10 years old\n",
      "My name is Mark I am 12 years old\n"
     ]
    }
   ],
   "source": [
    "# four different ways of printing\n",
    "age = 10\n",
    "name = \"Mark\"\n",
    "print(\"My name is %s. I am %s years old\" % (name, age))\n",
    "print(\"My name is {0} I am {1} years old\".format(name, age+2))\n",
    "print(\"My name is {name} I am {age} years old\".format(name=name, age=age))\n",
    "# fstring method\n",
    "print(f\"My name is {name} I am {age+2} years old\")"
   ]
  },
  {
   "cell_type": "code",
   "execution_count": 6,
   "metadata": {},
   "outputs": [
    {
     "name": "stdout",
     "output_type": "stream",
     "text": [
      "My name is Mark I am 10 years old.\n"
     ]
    }
   ],
   "source": [
    "# Using fstring to print objects of classe\n",
    "class A(object):\n",
    "    def __init__(self,name,age):\n",
    "        self.name=name\n",
    "        self.age=age\n",
    "    def __repr__(self):\n",
    "        return f\"My name is {self.name} I am {self.age} years old.\"\n",
    "print(A(name,age))"
   ]
  },
  {
   "cell_type": "markdown",
   "metadata": {},
   "source": [
    "## Sorting"
   ]
  },
  {
   "cell_type": "markdown",
   "metadata": {},
   "source": [
    "A. sorted() returns a new list, the original array does not changed."
   ]
  },
  {
   "cell_type": "markdown",
   "metadata": {},
   "source": [
    "1. sorting lists"
   ]
  },
  {
   "cell_type": "code",
   "execution_count": 2,
   "metadata": {},
   "outputs": [
    {
     "name": "stdout",
     "output_type": "stream",
     "text": [
      "['cat', 'cheetah', 'dog', 'rhino']\n",
      "['cat', 'dog', 'cheetah', 'rhino']\n",
      "['rhino', 'dog', 'cheetah', 'cat']\n"
     ]
    }
   ],
   "source": [
    "animals = [\"cat\",\"dog\",\"cheetah\",\"rhino\"]\n",
    "print(sorted(animals)) \n",
    "print(animals)\n",
    "print(sorted(animals, reverse= True)) # reverse the order"
   ]
  },
  {
   "cell_type": "markdown",
   "metadata": {},
   "source": [
    "2. sorting dictionaries:\n",
    "we can pass in the optional key parameter to specify how to sort the iterable."
   ]
  },
  {
   "cell_type": "code",
   "execution_count": 6,
   "metadata": {},
   "outputs": [
    {
     "name": "stdout",
     "output_type": "stream",
     "text": [
      "[{'type': 'cat', 'name': 'Stephane', 'age': '2'}, {'type': 'rhino', 'name': 'Moe ', 'age': '3'}, {'type': 'dog', 'name': 'Devon', 'age': '5'}]\n",
      "the oldest animal is {'type': 'dog', 'name': 'Devon', 'age': '5'}\n"
     ]
    }
   ],
   "source": [
    "animals=[\n",
    "    {'type':'cat','name':'Stephane','age':'2'},\n",
    "    {'type':'dog','name':'Devon','age':'5'},\n",
    "    {'type':'rhino','name':'Moe ','age':'3'}\n",
    "]\n",
    "print(sorted(animals, key= lambda animal : animal['age']))\n",
    "print(f\"the oldest animal is {sorted(animals, key= lambda animal : animal['age'], reverse = True)[0]}\")"
   ]
  },
  {
   "cell_type": "markdown",
   "metadata": {},
   "source": [
    "sort() this function will mutate the list and sort it. it will change the list."
   ]
  },
  {
   "cell_type": "code",
   "execution_count": 5,
   "metadata": {},
   "outputs": [
    {
     "name": "stdout",
     "output_type": "stream",
     "text": [
      "[{'type': 'cat', 'name': 'Stephane', 'age': '2'}, {'type': 'rhino', 'name': 'Moe ', 'age': '3'}, {'type': 'dog', 'name': 'Devon', 'age': '5'}]\n"
     ]
    }
   ],
   "source": [
    "# the list will be changed to be sorted by age\n",
    "animals.sort(key=lambda animal : animal['age'])\n",
    "print(animals)"
   ]
  },
  {
   "cell_type": "markdown",
   "metadata": {},
   "source": [
    "## *args, **kwargs\n",
    "* *args is used to pass tuple to a function, many parameters.\n",
    "\n",
    "* **kwargs is used to pass dictionary to function"
   ]
  },
  {
   "cell_type": "code",
   "execution_count": 1,
   "metadata": {},
   "outputs": [
    {
     "data": {
      "text/plain": [
       "\"Hello, ('Nina', 'Alex', 'Casha')\""
      ]
     },
     "execution_count": 1,
     "metadata": {},
     "output_type": "execute_result"
    }
   ],
   "source": [
    "#args is a tuple, \n",
    "# and will contain all the elements will be passed to the function with one parameter\n",
    "# we do not use indexing with args, we either use them as they are or we loop over them\n",
    "def hello(*args): \n",
    "    return f'Hello, {args}'\n",
    "hello('Nina','Alex','Casha')"
   ]
  },
  {
   "cell_type": "code",
   "execution_count": 4,
   "metadata": {},
   "outputs": [
    {
     "data": {
      "text/plain": [
       "\"a = Nina, args= ('Alex', 'Casandra'), b=Casha\""
      ]
     },
     "execution_count": 4,
     "metadata": {},
     "output_type": "execute_result"
    }
   ],
   "source": [
    "# Any parameter before *args can be a posistion argument\n",
    "# Any parameter after *args should be a keyword argument\n",
    "# Thus, when calling the following function below , we need to explicitly write \"b = sth\"\n",
    "def hello(a,*args,b): \n",
    "    return f'a = {a}, args= {args}, b={b}'\n",
    "hello('Nina','Alex', 'Casandra', b='Casha') # here"
   ]
  },
  {
   "cell_type": "code",
   "execution_count": 6,
   "metadata": {},
   "outputs": [
    {
     "data": {
      "text/plain": [
       "\"a = Nina, args= ('Alex', 'Casandra'), kwargs={}\""
      ]
     },
     "execution_count": 6,
     "metadata": {},
     "output_type": "execute_result"
    }
   ],
   "source": [
    "# kwargs\n",
    "def hello(a,*args,**kwargs): \n",
    "    return f'a = {a}, args= {args}, kwargs={kwargs}'\n",
    "hello('Nina','Alex', 'Casandra')"
   ]
  },
  {
   "cell_type": "code",
   "execution_count": 7,
   "metadata": {},
   "outputs": [
    {
     "data": {
      "text/plain": [
       "\"a = Nina, args= ('Alex', 'Casandra'), kwargs={'she': 'Mirna', 'he': 'Patrik'}\""
      ]
     },
     "execution_count": 7,
     "metadata": {},
     "output_type": "execute_result"
    }
   ],
   "source": [
    "# In the following line : a is a positional element\n",
    "# args : takes these positional arguments : 'Alex', 'Casandra'\n",
    "# kwargs : takes these keywords argument she = 'Mirna', he ='Patrik' and stick them into a dictionary\n",
    "hello('Nina','Alex', 'Casandra', she = 'Mirna', he ='Patrik')"
   ]
  },
  {
   "cell_type": "code",
   "execution_count": null,
   "metadata": {},
   "outputs": [],
   "source": []
  }
 ],
 "metadata": {
  "interpreter": {
   "hash": "b9df591a4e5606b022f2e898868f19e0006e72b6b1dd84b5eba71b047e5f8ac3"
  },
  "kernelspec": {
   "display_name": "Python 3.9.7 ('env_django')",
   "language": "python",
   "name": "python3"
  },
  "language_info": {
   "codemirror_mode": {
    "name": "ipython",
    "version": 3
   },
   "file_extension": ".py",
   "mimetype": "text/x-python",
   "name": "python",
   "nbconvert_exporter": "python",
   "pygments_lexer": "ipython3",
   "version": "3.9.7"
  },
  "orig_nbformat": 4
 },
 "nbformat": 4,
 "nbformat_minor": 2
}
