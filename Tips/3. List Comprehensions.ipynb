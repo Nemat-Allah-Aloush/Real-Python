{
 "cells": [
  {
   "cell_type": "markdown",
   "metadata": {},
   "source": [
    "### List Comprehensions and Built-In Functions on Lists"
   ]
  },
  {
   "cell_type": "code",
   "execution_count": null,
   "metadata": {},
   "outputs": [
    {
     "name": "stdout",
     "output_type": "stream",
     "text": [
      "First method:  [1, 4, 9, 16]\n",
      "Second method:  [1, 4, 9, 16]\n",
      "Third method:  [1, 4, 9, 16]\n"
     ]
    }
   ],
   "source": [
    "def square(x):\n",
    "    return x *x \n",
    "list=[1,2,3,-4]\n",
    "# first method to find the square of a list\n",
    "results = []\n",
    "for num in list:\n",
    "    results.append(square(num))\n",
    "print ('First method: ', results)\n",
    "# second method to find the square of a list  //map method//\n",
    "results_2 = [*map(square,list)]\n",
    "print ('Second method: ', results_2)\n",
    "# third method to find the square of a list //list comprehension//\n",
    "results_3 = [square(x) for x in list] \n",
    "print ('Third method: ', results_3)\n"
   ]
  },
  {
   "cell_type": "code",
   "execution_count": null,
   "metadata": {},
   "outputs": [
    {
     "name": "stdout",
     "output_type": "stream",
     "text": [
      "First method:  [1, 3]\n",
      "Second method:  [1, 3]\n"
     ]
    }
   ],
   "source": [
    "def is_odd(x):\n",
    "    return x%2==1\n",
    "# 1st way to filter odd numbers   //filter method//\n",
    "result_4=[*filter(is_odd,list)]\n",
    "print ('First method: ', result_4)\n",
    "# 2nd way to filter odd numbers   //list comprehension//\n",
    "result_5=[num for num in list if is_odd(num)]\n",
    "print ('Second method: ', result_5)"
   ]
  },
  {
   "cell_type": "code",
   "execution_count": null,
   "metadata": {},
   "outputs": [
    {
     "name": "stdout",
     "output_type": "stream",
     "text": [
      "Max 3\n",
      "Num with the Max Square -4\n",
      "Min -4\n",
      "Num with the Min Square 1\n",
      "Any? True\n",
      "All? True\n"
     ]
    }
   ],
   "source": [
    "## Useful built-in functions for list\n",
    "# 1. max()\n",
    "print(\"Max\", max(list))\n",
    "#   max function with a key\n",
    "print(\"Num with the Max Square\", max(list, key=lambda x:x*x))\n",
    "# 2. min()\n",
    "print(\"Min\", min(list))\n",
    "#   min function with a key\n",
    "print(\"Num with the Min Square\", min(list, key=lambda x:x*x))\n",
    "# 3.Any(), takes an iterable and returns true if any of the elements is true\n",
    "print(\"Any?\", any(list))\n",
    "# 4.All(), takes an iterable and returns true if all of the elements is true\n",
    "print(\"All?\", all(list))\n"
   ]
  }
 ],
 "metadata": {
  "language_info": {
   "name": "python"
  },
  "orig_nbformat": 4
 },
 "nbformat": 4,
 "nbformat_minor": 2
}
