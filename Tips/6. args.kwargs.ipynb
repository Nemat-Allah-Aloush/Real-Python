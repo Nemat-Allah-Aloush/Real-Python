{
 "cells": [
  {
   "cell_type": "markdown",
   "metadata": {},
   "source": [
    "## *args, **kwargs\n",
    "* *args is used to pass tuple to a function, many parameters.\n",
    "\n",
    "* **kwargs is used to pass dictionary to function"
   ]
  },
  {
   "cell_type": "code",
   "execution_count": null,
   "metadata": {},
   "outputs": [
    {
     "data": {
      "text/plain": [
       "\"Hello, ('Nina', 'Alex', 'Casha')\""
      ]
     },
     "metadata": {},
     "output_type": "display_data"
    }
   ],
   "source": [
    "#args is a tuple, \n",
    "# and will contain all the elements will be passed to the function with one parameter\n",
    "# we do not use indexing with args, we either use them as they are or we loop over them\n",
    "def hello(*args): \n",
    "    return f'Hello, {args}'\n",
    "hello('Nina','Alex','Casha')"
   ]
  },
  {
   "cell_type": "code",
   "execution_count": null,
   "metadata": {},
   "outputs": [
    {
     "data": {
      "text/plain": [
       "\"a = Nina, args= ('Alex', 'Casandra'), b=Casha\""
      ]
     },
     "metadata": {},
     "output_type": "display_data"
    }
   ],
   "source": [
    "# Any parameter before *args can be a posistion argument\n",
    "# Any parameter after *args should be a keyword argument\n",
    "# Thus, when calling the following function below , we need to explicitly write \"b = sth\"\n",
    "def hello(a,*args,b): \n",
    "    return f'a = {a}, args= {args}, b={b}'\n",
    "hello('Nina','Alex', 'Casandra', b='Casha') # here"
   ]
  },
  {
   "cell_type": "code",
   "execution_count": null,
   "metadata": {},
   "outputs": [
    {
     "data": {
      "text/plain": [
       "\"a = Nina, args= ('Alex', 'Casandra'), kwargs={}\""
      ]
     },
     "metadata": {},
     "output_type": "display_data"
    }
   ],
   "source": [
    "# kwargs\n",
    "def hello(a,*args,**kwargs): \n",
    "    return f'a = {a}, args= {args}, kwargs={kwargs}'\n",
    "hello('Nina','Alex', 'Casandra')"
   ]
  },
  {
   "cell_type": "code",
   "execution_count": null,
   "metadata": {},
   "outputs": [
    {
     "data": {
      "text/plain": [
       "\"a = Nina, args= ('Alex', 'Casandra'), kwargs={'she': 'Mirna', 'he': 'Patrik'}\""
      ]
     },
     "metadata": {},
     "output_type": "display_data"
    }
   ],
   "source": [
    "# In the following line : a is a positional element\n",
    "# args : takes these positional arguments : 'Alex', 'Casandra'\n",
    "# kwargs : takes these keywords argument she = 'Mirna', he ='Patrik' and stick them into a dictionary\n",
    "hello('Nina','Alex', 'Casandra', she = 'Mirna', he ='Patrik')"
   ]
  }
 ],
 "metadata": {
  "language_info": {
   "name": "python"
  },
  "orig_nbformat": 4
 },
 "nbformat": 4,
 "nbformat_minor": 2
}
