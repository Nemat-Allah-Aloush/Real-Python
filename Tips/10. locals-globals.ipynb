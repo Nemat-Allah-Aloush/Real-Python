{
 "cells": [
  {
   "cell_type": "markdown",
   "metadata": {},
   "source": [
    "In python, locals variables are variables defined inside functions including the parameters passed to the functions."
   ]
  },
  {
   "cell_type": "code",
   "execution_count": 1,
   "metadata": {},
   "outputs": [
    {
     "name": "stdout",
     "output_type": "stream",
     "text": [
      "Global y: 2\n",
      "Global i: 1\n"
     ]
    }
   ],
   "source": [
    "for i in range(2):\n",
    "    y= i*2\n",
    "print (f\"Global y: {y}\")\n",
    "print (f\"Global i: {i}\")"
   ]
  },
  {
   "cell_type": "code",
   "execution_count": 4,
   "metadata": {},
   "outputs": [
    {
     "name": "stdout",
     "output_type": "stream",
     "text": [
      "Local x: number\n",
      "Global x: Hola\n"
     ]
    }
   ],
   "source": [
    "x = 'Hola'\n",
    "def number():\n",
    "    x = 'number' # This is a different x variable\n",
    "    print (f\"Local x: {x}\")\n",
    "number()\n",
    "print (f\"Global x: {x}\")"
   ]
  },
  {
   "cell_type": "code",
   "execution_count": 3,
   "metadata": {},
   "outputs": [
    {
     "name": "stdout",
     "output_type": "stream",
     "text": [
      "Global x: number\n"
     ]
    }
   ],
   "source": [
    "def number():\n",
    "    global x # do not create a local variable x\n",
    "    x = 'number' # This is a different x variable\n",
    "number()\n",
    "print (f\"Global x: {x}\")"
   ]
  }
 ],
 "metadata": {
  "interpreter": {
   "hash": "f08154012ddadd8e950e6e9e035c7a7b32c136e7647e9b7c77e02eb723a8bedb"
  },
  "kernelspec": {
   "display_name": "Python 3.9.7 ('base')",
   "language": "python",
   "name": "python3"
  },
  "language_info": {
   "codemirror_mode": {
    "name": "ipython",
    "version": 3
   },
   "file_extension": ".py",
   "mimetype": "text/x-python",
   "name": "python",
   "nbconvert_exporter": "python",
   "pygments_lexer": "ipython3",
   "version": "3.9.7"
  },
  "orig_nbformat": 4
 },
 "nbformat": 4,
 "nbformat_minor": 2
}
