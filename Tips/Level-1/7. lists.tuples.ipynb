{
 "cells": [
  {
   "cell_type": "markdown",
   "metadata": {},
   "source": [
    "## Lists and Tuples\n",
    "Both are sequences and share the following properties:\n",
    "- Itterable.\n",
    "- Can contain any type.\n",
    "- Use 'in' to search.\n",
    "- Both have \"count\" and \"index\" methods.\n",
    "- Both can be used with index and slices with []\n",
    "\n",
    "What is different ?\n",
    "- Lists are mutable, and therefore they have more defined function, they are a lot heavier because they alocate extra memory uptop when they are first created, that can be changes since they are mutable.\n",
    "- Tuples are immutable. However, they may contain mutable data, and that data can be changed. They are used to pass arguments to functions. \n",
    "\n",
    "What is common ? \n",
    "- Lists are usually used for objects from the same type: files, integers, filesnames, strings.\n",
    "- Tuples are usually used for sequences of different types: structs, records, retrieving data from database. "
   ]
  },
  {
   "cell_type": "code",
   "execution_count": null,
   "metadata": {},
   "outputs": [
    {
     "name": "stdout",
     "output_type": "stream",
     "text": [
      "([1, 2, 3], [4, 5, 6])\n",
      "([1, 2, 3], [4, 5, 6, 7])\n"
     ]
    }
   ],
   "source": [
    "# Tuple of lists, the tuple immutabely refereing to the lists, \n",
    "# but the lists can be changed with no restrictions.\n",
    "tup = ([1,2,3],[4,5,6])\n",
    "print(tup)\n",
    "tup[1].append(7)\n",
    "print(tup)"
   ]
  }
 ],
 "metadata": {
  "language_info": {
   "name": "python"
  },
  "orig_nbformat": 4
 },
 "nbformat": 4,
 "nbformat_minor": 2
}
