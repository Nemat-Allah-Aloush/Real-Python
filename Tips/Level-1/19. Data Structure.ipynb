{
 "cells": [
  {
   "cell_type": "markdown",
   "metadata": {},
   "source": [
    "## Python's basic Data Structure\n",
    "\n",
    "1. Simple Structure : \n",
    "- None: It's used to declare that there is no value. It's used to return from funcction, when we want to define a variable but with no value, and it is used for defaults.\n",
    "- bool : if and while only work with boolean values. Everything in python when it's forced to decide if it's true or false, it is gonna be true with the exception for: False, None, and Zero value.\n",
    "- int, float\n",
    "\n",
    "2. Sequences: A family of types, A category. All iterable, containers,  use 'in', all subscriptable (== we can use [] with index or slice), searching O(n)\n",
    "- strings: contain charecters and it's immutable.\n",
    "- lists: contain anything,  mutable.\n",
    "- tuples: contain anything, immutable.\n",
    "\n",
    "3. Mapping: searching O(1)\n",
    "- dictionary:mutable, hash tables, name-value pairs, key-value pairs. \n",
    "- sets: mutable, sets are the keys of a dictionary."
   ]
  }
 ],
 "metadata": {
  "language_info": {
   "name": "python"
  },
  "orig_nbformat": 4
 },
 "nbformat": 4,
 "nbformat_minor": 2
}
