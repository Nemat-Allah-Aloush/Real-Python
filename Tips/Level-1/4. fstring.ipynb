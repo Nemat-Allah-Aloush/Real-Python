{
 "cells": [
  {
   "cell_type": "markdown",
   "metadata": {},
   "source": [
    "## fstring"
   ]
  },
  {
   "cell_type": "code",
   "execution_count": null,
   "metadata": {},
   "outputs": [
    {
     "name": "stdout",
     "output_type": "stream",
     "text": [
      "My name is Mark. I am 10 years old\n",
      "My name is Mark I am 12 years old\n",
      "My name is Mark I am 10 years old\n",
      "My name is Mark I am 12 years old\n"
     ]
    }
   ],
   "source": [
    "# four different ways of printing\n",
    "age = 10\n",
    "name = \"Mark\"\n",
    "print(\"My name is %s. I am %s years old\" % (name, age))\n",
    "print(\"My name is {0} I am {1} years old\".format(name, age+2))\n",
    "print(\"My name is {name} I am {age} years old\".format(name=name, age=age))\n",
    "# fstring method\n",
    "print(f\"My name is {name} I am {age+2} years old\")"
   ]
  },
  {
   "cell_type": "code",
   "execution_count": null,
   "metadata": {},
   "outputs": [
    {
     "name": "stdout",
     "output_type": "stream",
     "text": [
      "My name is Mark I am 10 years old.\n"
     ]
    }
   ],
   "source": [
    "# Using fstring to print objects of classe\n",
    "class A(object):\n",
    "    def __init__(self,name,age):\n",
    "        self.name=name\n",
    "        self.age=age\n",
    "    def __repr__(self):\n",
    "        return f\"My name is {self.name} I am {self.age} years old.\"\n",
    "print(A(name,age))"
   ]
  }
 ],
 "metadata": {
  "language_info": {
   "name": "python"
  },
  "orig_nbformat": 4
 },
 "nbformat": 4,
 "nbformat_minor": 2
}
