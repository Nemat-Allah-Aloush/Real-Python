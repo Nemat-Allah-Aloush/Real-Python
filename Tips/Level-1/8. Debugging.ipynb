{
 "cells": [
  {
   "cell_type": "markdown",
   "metadata": {},
   "source": [
    "### Debugging"
   ]
  },
  {
   "cell_type": "markdown",
   "metadata": {},
   "source": [
    "* First Method : using print() function.\n",
    "* Second Method: Using breakpoint() function\n",
    "* Third method: Using pdb library."
   ]
  },
  {
   "cell_type": "markdown",
   "metadata": {},
   "source": [
    "##### First method"
   ]
  },
  {
   "cell_type": "code",
   "execution_count": 2,
   "metadata": {},
   "outputs": [
    {
     "name": "stdout",
     "output_type": "stream",
     "text": [
      "0\n"
     ]
    }
   ],
   "source": [
    "def max(lst):\n",
    "    max_num=0 # fixing the error here, max_num= -float('inf')\n",
    "    for num in lst:\n",
    "        if num> max_num:\n",
    "            print(\"entered if statement\") # breakpoint.\n",
    "            max_num=num\n",
    "    return max_num\n",
    "print(max([-1,-4,-2]))"
   ]
  },
  {
   "cell_type": "markdown",
   "metadata": {},
   "source": [
    "##### Second method"
   ]
  },
  {
   "cell_type": "code",
   "execution_count": 4,
   "metadata": {},
   "outputs": [
    {
     "name": "stdout",
     "output_type": "stream",
     "text": [
      "0\n"
     ]
    }
   ],
   "source": [
    "def max(lst):\n",
    "    max_num=0 # fixing the error here, max_num= -float('inf')\n",
    "    for num in lst:\n",
    "        if num> max_num:\n",
    "            breakpoint() # breakpoint.\n",
    "            max_num=num\n",
    "    return max_num\n",
    "print(max([-1,-4,-2]))"
   ]
  },
  {
   "cell_type": "markdown",
   "metadata": {},
   "source": [
    "##### Third method"
   ]
  },
  {
   "cell_type": "code",
   "execution_count": 5,
   "metadata": {},
   "outputs": [
    {
     "name": "stdout",
     "output_type": "stream",
     "text": [
      "> \u001b[1;32mc:\\users\\user\\appdata\\local\\temp\\ipykernel_3856\\1689718808.py\u001b[0m(5)\u001b[0;36mmax\u001b[1;34m()\u001b[0m\n",
      "\n"
     ]
    }
   ],
   "source": [
    "def max(lst):\n",
    "    max_num=0 # fixing the error here, max_num= -float('inf')\n",
    "    for num in lst:\n",
    "        import pdb; pdb.set_trace()\n",
    "        if num> max_num:\n",
    "            print(\"entered if statement\") # breakpoint.\n",
    "            max_num=num\n",
    "    return max_num\n",
    "print(max([-1,-4,-2]))"
   ]
  }
 ],
 "metadata": {
  "interpreter": {
   "hash": "b9df591a4e5606b022f2e898868f19e0006e72b6b1dd84b5eba71b047e5f8ac3"
  },
  "kernelspec": {
   "display_name": "Python 3.9.7 ('env_django')",
   "language": "python",
   "name": "python3"
  },
  "language_info": {
   "codemirror_mode": {
    "name": "ipython",
    "version": 3
   },
   "file_extension": ".py",
   "mimetype": "text/x-python",
   "name": "python",
   "nbconvert_exporter": "python",
   "pygments_lexer": "ipython3",
   "version": "3.9.7"
  },
  "orig_nbformat": 4
 },
 "nbformat": 4,
 "nbformat_minor": 2
}
