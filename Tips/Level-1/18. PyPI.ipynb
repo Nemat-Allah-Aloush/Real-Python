{
 "cells": [
  {
   "cell_type": "markdown",
   "metadata": {},
   "source": [
    "## PyPI\n",
    "\n",
    "- Python Package Index\n",
    "[PyPI](https://pypi.org/) is a resource for packages that are not Python standard libraries, were developed by people and shared with Python community.\n",
    "\n",
    "- We can check the source code of the package.\n",
    "\n",
    "- We can check the license of the packages.\n",
    " \n",
    "- We can check the website [Awesome-Python](https://awesome-python.com/) for recommended python frameworks, libraries, software and resources."
   ]
  }
 ],
 "metadata": {
  "language_info": {
   "name": "python"
  },
  "orig_nbformat": 4
 },
 "nbformat": 4,
 "nbformat_minor": 2
}
