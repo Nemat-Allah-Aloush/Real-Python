{
 "cells": [
  {
   "cell_type": "markdown",
   "metadata": {},
   "source": [
    "What is `__init__` ?\n",
    "\n",
    "What is \"dunders init\"?\n",
    "\n",
    "dunders = double underscore = __\n"
   ]
  },
  {
   "cell_type": "markdown",
   "metadata": {},
   "source": [
    "In Object Oriented Programing, the idea is there are certain fields/attributes that we want to make sure that they are defined from the get go.\n",
    "\n",
    "For example, if we have a class 'Student' and we want ti make sure that every instance has a name for example.\n",
    "\n",
    "The new object of a class in python is created by `__new__` function, that we don't write, and this fuction calls `__init__` function of the class. In case `__init__` is not defined for the class, `object.__init__()` will be called and it does nothing."
   ]
  },
  {
   "cell_type": "code",
   "execution_count": 1,
   "metadata": {},
   "outputs": [
    {
     "data": {
      "text/plain": [
       "'Nemat'"
      ]
     },
     "execution_count": 1,
     "metadata": {},
     "output_type": "execute_result"
    }
   ],
   "source": [
    "class Person():\n",
    "    # __init__ is called after creating the object and before returning it.\n",
    "    def __init__(self,name):\n",
    "        self.name=name\n",
    "\n",
    "person=Person('Nemat')\n",
    "person.name"
   ]
  }
 ],
 "metadata": {
  "kernelspec": {
   "display_name": "Python 3.7.8 64-bit",
   "language": "python",
   "name": "python3"
  },
  "language_info": {
   "codemirror_mode": {
    "name": "ipython",
    "version": 3
   },
   "file_extension": ".py",
   "mimetype": "text/x-python",
   "name": "python",
   "nbconvert_exporter": "python",
   "pygments_lexer": "ipython3",
   "version": "3.7.8"
  },
  "orig_nbformat": 4,
  "vscode": {
   "interpreter": {
    "hash": "0a54084e6b208ee8d1ce3989ffc20924477a5f55f5a43e22e699a6741623861e"
   }
  }
 },
 "nbformat": 4,
 "nbformat_minor": 2
}
