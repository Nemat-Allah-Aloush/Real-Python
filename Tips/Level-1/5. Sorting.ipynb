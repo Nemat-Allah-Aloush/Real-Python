{
 "cells": [
  {
   "cell_type": "markdown",
   "metadata": {},
   "source": [
    "## Sorting"
   ]
  },
  {
   "cell_type": "markdown",
   "metadata": {},
   "source": [
    "A. sorted() returns a new list, the original array does not changed."
   ]
  },
  {
   "cell_type": "markdown",
   "metadata": {},
   "source": [
    "1. sorting lists"
   ]
  },
  {
   "cell_type": "code",
   "execution_count": null,
   "metadata": {},
   "outputs": [
    {
     "name": "stdout",
     "output_type": "stream",
     "text": [
      "['cat', 'cheetah', 'dog', 'rhino']\n",
      "['cat', 'dog', 'cheetah', 'rhino']\n",
      "['rhino', 'dog', 'cheetah', 'cat']\n"
     ]
    }
   ],
   "source": [
    "animals = [\"cat\",\"dog\",\"cheetah\",\"rhino\"]\n",
    "print(sorted(animals)) \n",
    "print(animals)\n",
    "print(sorted(animals, reverse= True)) # reverse the order"
   ]
  },
  {
   "cell_type": "markdown",
   "metadata": {},
   "source": [
    "2. sorting dictionaries:\n",
    "we can pass in the optional key parameter to specify how to sort the iterable."
   ]
  },
  {
   "cell_type": "code",
   "execution_count": null,
   "metadata": {},
   "outputs": [
    {
     "name": "stdout",
     "output_type": "stream",
     "text": [
      "[{'type': 'cat', 'name': 'Stephane', 'age': '2'}, {'type': 'rhino', 'name': 'Moe ', 'age': '3'}, {'type': 'dog', 'name': 'Devon', 'age': '5'}]\n",
      "the oldest animal is {'type': 'dog', 'name': 'Devon', 'age': '5'}\n"
     ]
    }
   ],
   "source": [
    "animals=[\n",
    "    {'type':'cat','name':'Stephane','age':'2'},\n",
    "    {'type':'dog','name':'Devon','age':'5'},\n",
    "    {'type':'rhino','name':'Moe ','age':'3'}\n",
    "]\n",
    "print(sorted(animals, key= lambda animal : animal['age']))\n",
    "print(f\"the oldest animal is {sorted(animals, key= lambda animal : animal['age'], reverse = True)[0]}\")"
   ]
  },
  {
   "cell_type": "markdown",
   "metadata": {},
   "source": [
    "sort() this function will mutate the list and sort it. it will change the list."
   ]
  },
  {
   "cell_type": "code",
   "execution_count": null,
   "metadata": {},
   "outputs": [
    {
     "name": "stdout",
     "output_type": "stream",
     "text": [
      "[{'type': 'cat', 'name': 'Stephane', 'age': '2'}, {'type': 'rhino', 'name': 'Moe ', 'age': '3'}, {'type': 'dog', 'name': 'Devon', 'age': '5'}]\n"
     ]
    }
   ],
   "source": [
    "# the list will be changed to be sorted by age\n",
    "animals.sort(key=lambda animal : animal['age'])\n",
    "print(animals)"
   ]
  }
 ],
 "metadata": {
  "language_info": {
   "name": "python"
  },
  "orig_nbformat": 4
 },
 "nbformat": 4,
 "nbformat_minor": 2
}
