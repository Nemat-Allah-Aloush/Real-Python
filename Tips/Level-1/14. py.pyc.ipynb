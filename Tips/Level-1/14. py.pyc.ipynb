{
 "cells": [
  {
   "cell_type": "markdown",
   "metadata": {},
   "source": [
    ".py vs .pyc ?!\n",
    "There are compiled langauges, interpreted languages, and byte complied.\n",
    "\n",
    "- compiler : translate code once, turn it to machine code, and then execute multiple times. \n",
    "Compiled languages are harder to use, faster to execute.\n",
    "\n",
    "- interpreter: translate the source code into machine code line by line, eavh time the program is run. in this way, we will lose a lot of the efficiency because the code is executed line by line .\n",
    "Interpreted languages are easy to use, slower to execute.\n",
    "\n",
    "- byte compiled: hybird, the source code is compiled once into byte codes, and byte codes are a high-level language that can be interpreted easily.\n",
    "Examples : Java, .NET(C#), Python.\n"
   ]
  },
  {
   "cell_type": "markdown",
   "metadata": {},
   "source": [
    "The first time I imported a module, th module is turned into byte codes, those byte codes are stored to disk (cash), and then the next time importing the same module, python notice and load the byte code (.pyc). \n",
    "\n",
    "\n",
    "How does that work?\n",
    "If .pyc does not exist but .py exist --> python creates .pyc and load it.\n",
    "\n",
    "If there is .pyc but there is no .py --> python loads .pyc\n",
    "\n",
    "If there is .py and .pyc and if .pyc is newer --> .pyc will be loaded.\n",
    "\n",
    "If there is a .py and .pyc and .py in newer, --> python removes .pyc and recompile the module .py creating a new .pyc, then the new .pyc will be loaded.\n"
   ]
  },
  {
   "cell_type": "markdown",
   "metadata": {},
   "source": [
    "if you have .pyc file, it can be transformed to the original .py without the comments."
   ]
  }
 ],
 "metadata": {
  "language_info": {
   "name": "python"
  },
  "orig_nbformat": 4
 },
 "nbformat": 4,
 "nbformat_minor": 2
}
