{
 "cells": [
  {
   "cell_type": "markdown",
   "metadata": {},
   "source": [
    "## PEP 8"
   ]
  },
  {
   "cell_type": "code",
   "execution_count": null,
   "metadata": {},
   "outputs": [],
   "source": [
    "Python Enchancement Proposal -- PEP\n",
    "It is a document that describes the change/addition that somwone wants to add to Python,\n",
    "what are the reasons for this change, how is the change goinig to be developed, and some examples.\n",
    "Then if the PEP was approved, it will be added to python.\n",
    "For each pep there is a number.\n",
    "\n",
    "PEP 8 has a lot of describtions on how to formulate the python code.\n",
    "IDEs, such as VSCode. Pycharm check these styles and suggest how to fix your style."
   ]
  },
  {
   "cell_type": "code",
   "execution_count": null,
   "metadata": {},
   "outputs": [],
   "source": []
  }
 ],
 "metadata": {
  "language_info": {
   "name": "python"
  },
  "orig_nbformat": 4
 },
 "nbformat": 4,
 "nbformat_minor": 2
}
