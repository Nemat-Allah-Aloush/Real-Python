{
 "cells": [
  {
   "cell_type": "markdown",
   "metadata": {},
   "source": [
    "### Immutable vs Mutable\n",
    "Some types in python are mutable (can be changed), while others are immutable (can not be changed).\n",
    "\n",
    "Immutable types : string, bool, int, float, tuple.\n",
    "Mutable type : list, dict, set.\n",
    "\n",
    "Immutable benefits :\n",
    "- variables can not be changed => their sizes fixed in the memory\n",
    "- variables pointed to the same immutablevariable have the same value\n",
    "\n",
    "Notes:\n",
    "* Mutable types are not hashable == > they can not be the key to a dictionary\n",
    "* A tuple is immutable so it is hashable as long as it contains immutable data all the way down."
   ]
  },
  {
   "cell_type": "code",
   "execution_count": 13,
   "metadata": {},
   "outputs": [
    {
     "name": "stdout",
     "output_type": "stream",
     "text": [
      "Hello Hello\n",
      "Hello! Hello\n",
      "The string itself did not change, meanwhile first_s is pointing to a new string equal to the new value :Hello!\n"
     ]
    }
   ],
   "source": [
    "## string\n",
    "first_s = 'Hello'\n",
    "# s[0] = '1' # can not be done because string is immutable\n",
    "second_s = first_s\n",
    "print (first_s, second_s)\n",
    "first_s += \"!\" \n",
    "print (first_s, second_s)\n",
    "print (\"The string itself did not change, meanwhile first_s is pointing to a new string equal to the new value: Hello!\")"
   ]
  },
  {
   "cell_type": "code",
   "execution_count": 11,
   "metadata": {},
   "outputs": [
    {
     "name": "stdout",
     "output_type": "stream",
     "text": [
      "[1, 2, 3] [1, 2, 3]\n",
      "[0, 2, 3] [0, 2, 3]\n",
      "Both variables refer to the same list and the list itself has changed\n"
     ]
    }
   ],
   "source": [
    "## list\n",
    "list = [1,2,3]\n",
    "list_2 = list\n",
    "print (list, list_2)\n",
    "list[0]=0\n",
    "print (list, list_2)  \n",
    "print (\"Both variables refer to the same list and the list itself has changed\")"
   ]
  },
  {
   "cell_type": "markdown",
   "metadata": {},
   "source": [
    "### range() vs enumerate()\n",
    "enumerate() , takes an itterable and enumerate through it and returns tuple, where the first element of the tuple is the index and the second element is the value."
   ]
  },
  {
   "cell_type": "code",
   "execution_count": 15,
   "metadata": {},
   "outputs": [
    {
     "name": "stdout",
     "output_type": "stream",
     "text": [
      " by range()\n",
      "0:1 1:1 2:2 3:3 4:5 5:8 \n",
      " by emmurate()\n",
      "0:1 1:1 2:2 3:3 4:5 5:8 "
     ]
    }
   ],
   "source": [
    "list = [1,1,2,3,5,8]\n",
    "print (\" by range()\")\n",
    "for i in range (len(list)):\n",
    "    print (f'{i}:{list[i]}', end =\" \")\n",
    "print(\"\\n by emmurate()\")\n",
    "for i,num in enumerate(list):\n",
    "    print (f'{i}:{num}', end =\" \")"
   ]
  },
  {
   "cell_type": "code",
   "execution_count": null,
   "metadata": {},
   "outputs": [],
   "source": []
  }
 ],
 "metadata": {
  "interpreter": {
   "hash": "b9df591a4e5606b022f2e898868f19e0006e72b6b1dd84b5eba71b047e5f8ac3"
  },
  "kernelspec": {
   "display_name": "Python 3.9.7 ('env_django')",
   "language": "python",
   "name": "python3"
  },
  "language_info": {
   "codemirror_mode": {
    "name": "ipython",
    "version": 3
   },
   "file_extension": ".py",
   "mimetype": "text/x-python",
   "name": "python",
   "nbconvert_exporter": "python",
   "pygments_lexer": "ipython3",
   "version": "3.9.7"
  },
  "orig_nbformat": 4
 },
 "nbformat": 4,
 "nbformat_minor": 2
}
