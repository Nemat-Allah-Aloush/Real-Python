{
 "cells": [
  {
   "cell_type": "markdown",
   "metadata": {},
   "source": [
    "## Dictionary"
   ]
  },
  {
   "cell_type": "markdown",
   "metadata": {},
   "source": [
    "A dictionary is an unordered associative container that maps keys to values\n",
    "\n",
    "A key can be any immutable value: Integers, strings, tuples etc.\n",
    "\n",
    "A value can be any type: Integers, strings, tuples, lists, dictionary etc.\n",
    "\n",
    "Items in a dictionary always exist as key-value pairs"
   ]
  },
  {
   "cell_type": "code",
   "execution_count": 79,
   "metadata": {},
   "outputs": [
    {
     "name": "stdout",
     "output_type": "stream",
     "text": [
      "Dictionary 1: {'a': 'alpha', 'o': 'omega', 'g': 'gamma'}\n",
      "Dictionary 2: {(1, 2): True, 'foo': [1, 2, 3], 3.14: 'pi'}\n",
      "After Inserting to Dictionary 1:  {'a': 'alpha', 'o': 'omega', 'g': 'gamma', 'country': 'Syria'}\n"
     ]
    }
   ],
   "source": [
    "D1 = {'a':'alpha', 'o':'omega', 'g':'gamma'}\n",
    "D2 = {(1,2): True, 'foo':[1,2,3], 3.14:'pi'}\n",
    "print(\"Dictionary 1:\", D1)\n",
    "print(\"Dictionary 2:\", D2)\n",
    "D1['country'] = 'Syria'\n",
    "print(\"After Inserting to Dictionary 1: \",D1)"
   ]
  },
  {
   "cell_type": "code",
   "execution_count": 80,
   "metadata": {},
   "outputs": [
    {
     "name": "stdout",
     "output_type": "stream",
     "text": [
      "Get Function\n",
      "(1, 2, 3)\n",
      "None\n",
      "Not Found\n",
      "Syria\n"
     ]
    }
   ],
   "source": [
    "print(\"Get Function\")\n",
    "print(D1.get(\"blue\", (1, 2, 3)))\n",
    "print(D1.get(\"green\"))\n",
    "print(D1.get(\"green\", \"Not Found\"))\n",
    "print(D1.get(\"country\", \"Not Found\"))"
   ]
  },
  {
   "cell_type": "code",
   "execution_count": 81,
   "metadata": {},
   "outputs": [
    {
     "name": "stdout",
     "output_type": "stream",
     "text": [
      "Dictionary 1: {1: 20, -5: 7, 8: 31}\n",
      "Dictionary 2: {1: 35, 9: 20}\n",
      "After merging both dictionaries:  {1: 35, -5: 7, 8: 31, 9: 20}\n"
     ]
    }
   ],
   "source": [
    "# merging and updating\n",
    "A = {1:20, -5:7, 8:31}\n",
    "B = {1:35, 9:20}\n",
    "print(\"Dictionary 1:\", A)\n",
    "print(\"Dictionary 2:\", B)\n",
    "A.update(B)\n",
    "print (\"After merging both dictionaries: \",A)"
   ]
  },
  {
   "cell_type": "code",
   "execution_count": 82,
   "metadata": {},
   "outputs": [
    {
     "name": "stdout",
     "output_type": "stream",
     "text": [
      "After 3 deletions {8: 31}\n"
     ]
    }
   ],
   "source": [
    "# Deleteing options\n",
    "del A[1] # take a Key, does not return a value!\n",
    "Value = A.pop(-5) # take a Key, and get the deleted value\n",
    "key, value = A.popitem() # does not take a Key!\n",
    "print(\"After 3 deletions\", A)"
   ]
  },
  {
   "cell_type": "code",
   "execution_count": 83,
   "metadata": {},
   "outputs": [
    {
     "name": "stdout",
     "output_type": "stream",
     "text": [
      "True\n"
     ]
    }
   ],
   "source": [
    "# checking key\n",
    "print(8 in A)"
   ]
  },
  {
   "cell_type": "code",
   "execution_count": 84,
   "metadata": {},
   "outputs": [
    {
     "name": "stdout",
     "output_type": "stream",
     "text": [
      "keys   dict_keys([8])\n",
      "values   dict_values([31])\n",
      "items   dict_items([(8, 31)])\n"
     ]
    }
   ],
   "source": [
    "print(\"keys  \",A.keys())\n",
    "print(\"values  \", A.values())\n",
    "print(\"items  \",A.items())"
   ]
  },
  {
   "cell_type": "code",
   "execution_count": 85,
   "metadata": {},
   "outputs": [
    {
     "name": "stdout",
     "output_type": "stream",
     "text": [
      "names and grades:  {'Aisha': 78, 'Ahmad': 85, 'Danah': 96, 'Hassan': 56, 'Mohammad': 63}\n",
      "highGrades:  {'Ahmad': 85, 'Danah': 96}\n",
      "After updating:  {'Aisha': 78, 'Ahmad': 95, 'Danah': 96, 'Hassan': 56, 'Mohammad': 73}\n"
     ]
    }
   ],
   "source": [
    "# Dictionary Comprehension\n",
    "sectionF1 = { 'Aisha':78, 'Ahmad':85, 'Danah':96, 'Hassan':56, 'Mohammad':63 }\n",
    "print (\"names and grades: \",sectionF1)\n",
    "\n",
    "highGrades = { name:grade for name,grade in sectionF1.items() if grade > 80}\n",
    "print (\"highGrades: \",highGrades)\n",
    "\n",
    "bonusGrades = {name:grade+10 for name,grade in sectionF1.items() if name.endswith('d')}\n",
    "sectionF1.update(bonusGrades)\n",
    "print (\"After updating: \", sectionF1)"
   ]
  },
  {
   "cell_type": "markdown",
   "metadata": {},
   "source": [
    "## List\n"
   ]
  },
  {
   "cell_type": "code",
   "execution_count": 88,
   "metadata": {},
   "outputs": [],
   "source": [
    "# List\n",
    "L1 = [0,1,2,3]\n",
    "L2 = ['zero', 'one']\n",
    "L3 = [0,1,[2,3],'three',['four,one']]\n"
   ]
  },
  {
   "cell_type": "code",
   "execution_count": 90,
   "metadata": {},
   "outputs": [
    {
     "name": "stdout",
     "output_type": "stream",
     "text": [
      "[0, 1, 2, 2009, 2009, 3]\n",
      "[0, 1, 2, 2009, 2009, 3, 7]\n"
     ]
    }
   ],
   "source": [
    "# adding values to a list\n",
    "L1.insert( 3, 2009)\n",
    "print(L1)\n",
    "L1.append(7)\n",
    "print(L1)"
   ]
  },
  {
   "cell_type": "code",
   "execution_count": 91,
   "metadata": {},
   "outputs": [
    {
     "name": "stdout",
     "output_type": "stream",
     "text": [
      "7 0 1\n",
      "length:  7\n"
     ]
    }
   ],
   "source": [
    "# indexes in a list\n",
    "print(L1[-1],L1[0], L1[1])\n",
    "# len function, to find the length\n",
    "print(\"length: \",len(L1))"
   ]
  },
  {
   "cell_type": "code",
   "execution_count": 100,
   "metadata": {},
   "outputs": [
    {
     "name": "stdout",
     "output_type": "stream",
     "text": [
      "Merged:  [1, 2, 3, 4, 5, 6, 4, 5, 6]\n",
      "Repeated:  [1, 2, 3, 4, 5, 6, 1, 2, 3, 4, 5, 6]\n"
     ]
    }
   ],
   "source": [
    "# Merging two lists by (+), repeating a list by (*)\n",
    "lst=[1,2,3,4,5,6]\n",
    "lst_2=[4,5,6]\n",
    "print(\"Merged: \",lst+lst_2)\n",
    "print(\"Repeated: \",lst*2)"
   ]
  },
  {
   "cell_type": "code",
   "execution_count": 28,
   "metadata": {},
   "outputs": [
    {
     "name": "stdout",
     "output_type": "stream",
     "text": [
      "[2, 3]\n",
      "[1, 2, 3, 4]\n",
      "[4, 5, 6]\n",
      "[1, 2, 3, 4, 5, 6]\n",
      "[1, 2, 3, 4, 5, 6]\n"
     ]
    }
   ],
   "source": [
    "# slice index\n",
    "print(lst[1:3])\n",
    "print(lst[:4])\n",
    "print(lst[3:])\n",
    "print(lst[:])\n",
    "print(lst)"
   ]
  },
  {
   "cell_type": "code",
   "execution_count": 101,
   "metadata": {},
   "outputs": [
    {
     "name": "stdout",
     "output_type": "stream",
     "text": [
      "[1, 2, 3, 4, 5, 6] \n",
      " [4, 5, 6]\n",
      "Extending first list:\n",
      " [1, 2, 3, 4, 5, 6, 4, 5, 6] \n",
      " [4, 5, 6]\n"
     ]
    }
   ],
   "source": [
    "print(lst,\"\\n\",lst_2)\n",
    "lst.extend(lst_2)\n",
    "print(\"Extending first list:\\n\",lst,\"\\n\",lst_2)"
   ]
  },
  {
   "cell_type": "code",
   "execution_count": 102,
   "metadata": {},
   "outputs": [
    {
     "name": "stdout",
     "output_type": "stream",
     "text": [
      "before sorting:  [1, 2, 3, 4, 5, 6, 4, 5, 6]\n",
      "after sorting:  [1, 2, 3, 4, 4, 5, 5, 6, 6]\n",
      "1\n",
      "before reversion:  [1, 2, 3, 4, 4, 5, 5, 6, 6]\n",
      "after reversion:  [6, 6, 5, 5, 4, 4, 3, 2, 1]\n"
     ]
    }
   ],
   "source": [
    "print(\"before sorting: \",lst)\n",
    "lst.sort() # sorting\n",
    "print(\"after sorting: \",lst)\n",
    "print(lst.index(2)) #get the index of a value in the list\n",
    "print(\"before reversion: \",lst)\n",
    "lst.reverse() # reverse a list\n",
    "print(\"after reversion: \",lst)"
   ]
  },
  {
   "cell_type": "code",
   "execution_count": 42,
   "metadata": {},
   "outputs": [
    {
     "name": "stdout",
     "output_type": "stream",
     "text": [
      "2\n"
     ]
    }
   ],
   "source": [
    "# copy and count functions\n",
    "copy=lst.copy()\n",
    "count=copy.count(5)\n",
    "print(count)"
   ]
  },
  {
   "cell_type": "code",
   "execution_count": 103,
   "metadata": {},
   "outputs": [
    {
     "name": "stdout",
     "output_type": "stream",
     "text": [
      "[4, 3, 2, 1]\n",
      "[3, 2, 1]\n",
      "[3, 2]\n"
     ]
    }
   ],
   "source": [
    "# Deleting\n",
    "# in case we know the index\n",
    "copy.pop(1)\n",
    "print(copy)\n",
    "# in case if we know the index\n",
    "del copy[0]\n",
    "print(copy)\n",
    "# in case if we know the value\n",
    "copy.remove(1)\n",
    "print(copy)"
   ]
  },
  {
   "cell_type": "markdown",
   "metadata": {},
   "source": [
    "## string"
   ]
  },
  {
   "cell_type": "code",
   "execution_count": 51,
   "metadata": {},
   "outputs": [
    {
     "name": "stdout",
     "output_type": "stream",
     "text": [
      "['h', 'o', 'l', 'a']\n",
      "['hola', 'you']\n",
      "['hola', 'you']\n",
      "hola you\n"
     ]
    }
   ],
   "source": [
    "s = 'hola'\n",
    "lst_s= list(s)\n",
    "print (lst_s)\n",
    "sentence = 'hola you'\n",
    "splitted = sentence.split()\n",
    "print(splitted)\n",
    "sentence_2 = 'hola*you'\n",
    "splitted_2 = sentence_2.split('*')\n",
    "print(splitted)\n",
    "joined= ' '.join(splitted)\n",
    "print(joined)"
   ]
  },
  {
   "cell_type": "markdown",
   "metadata": {},
   "source": [
    "some functions:\n",
    ".islower()\n",
    ".startswith()\n",
    ".endswith()"
   ]
  },
  {
   "cell_type": "markdown",
   "metadata": {},
   "source": [
    "## Tuple"
   ]
  },
  {
   "cell_type": "code",
   "execution_count": 106,
   "metadata": {},
   "outputs": [
    {
     "name": "stdout",
     "output_type": "stream",
     "text": [
      "5 1 2\n",
      "length 5\n"
     ]
    }
   ],
   "source": [
    "# Tuple : immutable (their values can not be changed.)\n",
    "T1 = (1,2,3,4,5)\n",
    "T2 = (1,\"Big Deal\",[1,2],6.7J)\n",
    "# indexes\n",
    "print(T1[-1],T1[0], T1[1])\n",
    "# len function\n",
    "print(\"length\",len(T1))"
   ]
  },
  {
   "cell_type": "code",
   "execution_count": 52,
   "metadata": {},
   "outputs": [
    {
     "name": "stdout",
     "output_type": "stream",
     "text": [
      "('h', 'o', 'l', 'a')\n"
     ]
    }
   ],
   "source": [
    "# tuple and string\n",
    "s = 'hola'\n",
    "t=tuple(s)\n",
    "print(t)"
   ]
  },
  {
   "cell_type": "code",
   "execution_count": 107,
   "metadata": {},
   "outputs": [
    {
     "name": "stdout",
     "output_type": "stream",
     "text": [
      "first tuple (1, 2, 3, 4, 5)\n",
      "second tuple (1, 'Big Deal', [1, 2], 6.7j)\n",
      "swapping\n",
      "first tuple (1, 'Big Deal', [1, 2], 6.7j)\n",
      "second tuple (1, 2, 3, 4, 5)\n"
     ]
    }
   ],
   "source": [
    "# swapping )\n",
    "print(\"first tuple\",T1)\n",
    "print(\"second tuple\",T2)\n",
    "T1, T2 = T2,T1\n",
    "print(\"swapping\")\n",
    "print(\"first tuple\",T1)\n",
    "print(\"second tuple\",T2)\n"
   ]
  },
  {
   "cell_type": "code",
   "execution_count": 109,
   "metadata": {},
   "outputs": [
    {
     "name": "stdout",
     "output_type": "stream",
     "text": [
      "nina gmail.com\n"
     ]
    }
   ],
   "source": [
    "# splitting a string\n",
    "email=\"nina@gmail.com\"\n",
    "name,domain=email.split('@')\n",
    "print(name, domain)"
   ]
  },
  {
   "cell_type": "code",
   "execution_count": 55,
   "metadata": {},
   "outputs": [
    {
     "name": "stdout",
     "output_type": "stream",
     "text": [
      "My best friend`s name is Efe\n",
      "Efe is 4 years old.\n"
     ]
    }
   ],
   "source": [
    "# unpacking tuples \n",
    "myFriend = ('Efe', 4)\n",
    "name, age = myFriend\n",
    "print ('My best friend`s name is', name)\n",
    "print (name, 'is', age, 'years old.')"
   ]
  },
  {
   "cell_type": "markdown",
   "metadata": {},
   "source": [
    "### tuples and lists"
   ]
  },
  {
   "cell_type": "code",
   "execution_count": 56,
   "metadata": {},
   "outputs": [
    {
     "name": "stdout",
     "output_type": "stream",
     "text": [
      "Alex is 40 years old\n",
      "Mary is 22 years old\n",
      "John is 33 years old\n"
     ]
    }
   ],
   "source": [
    "namesAndAges = [('Alex', 'Gheith', 40),('Mary', 'Hanson', 22),('John', 'Stewart', 33)]\n",
    "for first, _, age in namesAndAges:\n",
    "    print (first, 'is', age, 'years old')"
   ]
  },
  {
   "cell_type": "code",
   "execution_count": 57,
   "metadata": {},
   "outputs": [
    {
     "name": "stdout",
     "output_type": "stream",
     "text": [
      "98\n"
     ]
    }
   ],
   "source": [
    "grades = [ ('Juan', 68), ('Rodney', 36), ('Edward', 98), ('Christine', 57)]\n",
    "highest_grade = max([grade for _, grade in grades])\n",
    "print (highest_grade)"
   ]
  },
  {
   "cell_type": "code",
   "execution_count": 58,
   "metadata": {},
   "outputs": [
    {
     "name": "stdout",
     "output_type": "stream",
     "text": [
      "4\n"
     ]
    }
   ],
   "source": [
    "grades = [28, 12, 71, 64, 26, 97, 1, 7, 100, 68, 57, 92, 29, 53, 8, 13, 84, 58, 69, 90]\n",
    "above_90_count = len([ g for g in grades if g >= 90])\n",
    "print ( above_90_count )"
   ]
  },
  {
   "cell_type": "markdown",
   "metadata": {},
   "source": [
    "### zip() function"
   ]
  },
  {
   "cell_type": "code",
   "execution_count": 62,
   "metadata": {},
   "outputs": [
    {
     "name": "stdout",
     "output_type": "stream",
     "text": [
      "('a', 0)\n",
      "('b', 1)\n",
      "('c', 2)\n",
      "[('a', 0), ('b', 1), ('c', 2)]\n"
     ]
    }
   ],
   "source": [
    "s = 'abc'\n",
    "t = [0, 1, 2]\n",
    "for pair in zip(s, t):\n",
    "    print (pair)\n",
    "x = list(zip(s, t))\n",
    "print (x)"
   ]
  },
  {
   "cell_type": "code",
   "execution_count": 65,
   "metadata": {},
   "outputs": [
    {
     "name": "stdout",
     "output_type": "stream",
     "text": [
      "('Juan', 'Rodney', 'Edward', 'Christine')\n",
      "(68, 36, 57, 98)\n"
     ]
    }
   ],
   "source": [
    "# Unpacking a list of tuples.\n",
    "#  (*) to unpack list of tuples into tuples of lists.\n",
    "rep_list = [ ('Juan', 68), ('Rodney', 36),('Edward', 57), ('Christine', 98)]\n",
    "names, grades = zip(*rep_list)\n",
    "print (names)\n",
    "print (grades)"
   ]
  },
  {
   "cell_type": "code",
   "execution_count": 67,
   "metadata": {},
   "outputs": [
    {
     "name": "stdout",
     "output_type": "stream",
     "text": [
      "(2, 0)\n",
      "(3, 4)\n",
      "(6, 7)\n"
     ]
    }
   ],
   "source": [
    "#  zip() keeps the shortest\n",
    "x = [2, 3, 6]\n",
    "y = [0, 4, 7, 9]\n",
    "for coordinates in zip(x, y):\n",
    "    print (coordinates)"
   ]
  },
  {
   "cell_type": "markdown",
   "metadata": {},
   "source": [
    "## sets\n",
    "A set is an unordered collection with no duplicate elements."
   ]
  },
  {
   "cell_type": "code",
   "execution_count": 68,
   "metadata": {},
   "outputs": [
    {
     "name": "stdout",
     "output_type": "stream",
     "text": [
      "{'A', 'C', 'B', 'D'}\n"
     ]
    }
   ],
   "source": [
    "grades = { 'A', 'D', 'B', 'C', 'D', 'B', 'A', 'D', 'C', 'D', 'B', 'A', 'D'}\n",
    "print (grades)"
   ]
  },
  {
   "cell_type": "code",
   "execution_count": 69,
   "metadata": {},
   "outputs": [
    {
     "name": "stdout",
     "output_type": "stream",
     "text": [
      "True\n",
      "False\n"
     ]
    }
   ],
   "source": [
    "grades = { 'C', 'D', 'A', 'B'}\n",
    "print ( 'C' in grades)\n",
    "print ( 'F' in grades)"
   ]
  },
  {
   "cell_type": "code",
   "execution_count": 70,
   "metadata": {},
   "outputs": [
    {
     "name": "stdout",
     "output_type": "stream",
     "text": [
      "20\n"
     ]
    }
   ],
   "source": [
    "# lists and sets, sets remove duplicates\n",
    "data = [ 10, 20, 30, 10, 20, 40, 20 ]\n",
    "mostCommon = max( set(data), key = data.count )\n",
    "print (mostCommon)"
   ]
  },
  {
   "cell_type": "markdown",
   "metadata": {},
   "source": [
    "### range()"
   ]
  },
  {
   "cell_type": "code",
   "execution_count": 71,
   "metadata": {},
   "outputs": [
    {
     "name": "stdout",
     "output_type": "stream",
     "text": [
      "range(0, 6)\n",
      "range(5, 10)\n",
      "range(10, 50, 10)\n"
     ]
    }
   ],
   "source": [
    "print(range(6))\n",
    "print(range(5, 10) )\n",
    "print(range(10,50,10) )"
   ]
  },
  {
   "cell_type": "markdown",
   "metadata": {},
   "source": [
    "### shorthand if"
   ]
  },
  {
   "cell_type": "code",
   "execution_count": 74,
   "metadata": {},
   "outputs": [
    {
     "name": "stdout",
     "output_type": "stream",
     "text": [
      "11\n"
     ]
    }
   ],
   "source": [
    "a =1\n",
    "b=2\n",
    "x = 10 if a > b else 11\n",
    "print (x)"
   ]
  },
  {
   "cell_type": "code",
   "execution_count": 75,
   "metadata": {},
   "outputs": [
    {
     "name": "stdout",
     "output_type": "stream",
     "text": [
      "adult\n"
     ]
    }
   ],
   "source": [
    "age=25\n",
    "print('kid' if age < 10 else 'teenager' if age < 18 else 'adult')"
   ]
  }
 ],
 "metadata": {
  "interpreter": {
   "hash": "8fac594bfae6525c0c41b4041d2d72effa188cc8ead05f81b1fab2bb098927fb"
  },
  "kernelspec": {
   "display_name": "Python 3.9.7 ('base')",
   "language": "python",
   "name": "python3"
  },
  "language_info": {
   "codemirror_mode": {
    "name": "ipython",
    "version": 3
   },
   "file_extension": ".py",
   "mimetype": "text/x-python",
   "name": "python",
   "nbconvert_exporter": "python",
   "pygments_lexer": "ipython3",
   "version": "3.9.7"
  },
  "orig_nbformat": 4
 },
 "nbformat": 4,
 "nbformat_minor": 2
}
